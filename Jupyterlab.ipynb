{
 "cells": [
  {
   "cell_type": "markdown",
   "id": "91cc62ae",
   "metadata": {},
   "source": [
    "## TOC:\n",
    "* [A Picture of Spain](#first-bullet)\n",
    "* [A Video of Spain](#second-bullet)\n",
    "* [A Spotify Playlist](#third-bullet)"
   ]
  },
  {
   "cell_type": "markdown",
   "id": "75d1d3de",
   "metadata": {},
   "source": [
    "This is a notebook with the purpose to learn how to use Markdown and Python in Jupyter Notebook. It's also about holidays. "
   ]
  },
  {
   "cell_type": "code",
   "execution_count": 4,
   "id": "248fc98c",
   "metadata": {},
   "outputs": [
    {
     "name": "stdout",
     "output_type": "stream",
     "text": [
      "please enter the name of the person:tset\n"
     ]
    }
   ],
   "source": [
    "name = input ('please enter the name of the person:')"
   ]
  },
  {
   "attachments": {},
   "cell_type": "markdown",
   "id": "dbb3820a",
   "metadata": {},
   "source": [
    "\n",
    "<img src=\"holidays.jpg\" alt=\"drawing\" width=\"300\"/>"
   ]
  },
  {
   "cell_type": "code",
   "execution_count": null,
   "id": "22a16472",
   "metadata": {},
   "outputs": [],
   "source": [
    "\n",
    "\n",
    "country = input('What country do you prefer to travel to?')"
   ]
  },
  {
   "cell_type": "markdown",
   "id": "58add0e5",
   "metadata": {},
   "source": [
    "## A Picture of Spain <a class=\"anchor\" id=\"first-bullet\"></a>\n",
    "\n",
    "![title](https://static.toiimg.com/photo/msid-72004774/72004774.jpg)"
   ]
  },
  {
   "cell_type": "markdown",
   "id": "a51cb38d",
   "metadata": {},
   "source": [
    "Top 3 things that Alexa likes to do in Spain:\n",
    "\n",
    "- *swim*\n",
    "- **eat**\n",
    "- relax\n",
    "- ~~sleep~~"
   ]
  },
  {
   "cell_type": "markdown",
   "id": "15b43b99",
   "metadata": {},
   "source": [
    "## A Video of Spain <a class=\"anchor\" id=\"second-bullet\"></a>\n",
    "\n",
    "\n",
    "Click on the picture to watch a video of Spain:\n",
    "\n",
    "[![Watch the video here](https://i.ytimg.com/an_webp/YGAsG6_JgAI/mqdefault_6s.webp?du=3000&sqp=CJ6HtosG&rs=AOn4CLCOZ8oB96spQ6JorYg4fZg5_i0Kew)](https://www.youtube.com/watch?v=YGAsG6_JgAI)\n"
   ]
  },
  {
   "cell_type": "markdown",
   "id": "573c9780",
   "metadata": {},
   "source": [
    "## A Spotify Playlist <a class=\"anchor\" id=\"third-bullet\"></a>"
   ]
  },
  {
   "cell_type": "code",
   "execution_count": 29,
   "id": "6ff22988",
   "metadata": {},
   "outputs": [
    {
     "data": {
      "text/html": [
       "\n",
       "        <iframe\n",
       "            width=\"100%\"\n",
       "            height=\"300\"\n",
       "            src=\"https://open.spotify.com/embed/playlist/4z0aU3aX74LH6uWHTygTfV?utm_source=generator\"\n",
       "            frameborder=\"0\"\n",
       "            allowfullscreen\n",
       "        ></iframe>\n",
       "        "
      ],
      "text/plain": [
       "<IPython.lib.display.IFrame at 0x7fbb412d6fa0>"
      ]
     },
     "execution_count": 29,
     "metadata": {},
     "output_type": "execute_result"
    }
   ],
   "source": [
    "from IPython.display import IFrame\n",
    "IFrame('https://open.spotify.com/embed/playlist/4z0aU3aX74LH6uWHTygTfV?utm_source=generator', width=\"100%\", height=300)\n"
   ]
  },
  {
   "cell_type": "code",
   "execution_count": null,
   "id": "db2026b5",
   "metadata": {},
   "outputs": [],
   "source": []
  },
  {
   "cell_type": "code",
   "execution_count": null,
   "id": "667be3d9",
   "metadata": {},
   "outputs": [],
   "source": []
  },
  {
   "cell_type": "code",
   "execution_count": null,
   "id": "6b259aba",
   "metadata": {},
   "outputs": [],
   "source": []
  }
 ],
 "metadata": {
  "kernelspec": {
   "display_name": "Python 3",
   "language": "python",
   "name": "python3"
  },
  "language_info": {
   "codemirror_mode": {
    "name": "ipython",
    "version": 3
   },
   "file_extension": ".py",
   "mimetype": "text/x-python",
   "name": "python",
   "nbconvert_exporter": "python",
   "pygments_lexer": "ipython3",
   "version": "3.8.8"
  }
 },
 "nbformat": 4,
 "nbformat_minor": 5
}
