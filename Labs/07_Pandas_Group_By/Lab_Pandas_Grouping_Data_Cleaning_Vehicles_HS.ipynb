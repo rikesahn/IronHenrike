{
 "cells": [
  {
   "cell_type": "markdown",
   "metadata": {
    "id": "N1YkD9XI6Fg3"
   },
   "source": [
    "# Pandas: grouping"
   ]
  },
  {
   "cell_type": "code",
   "execution_count": 118,
   "metadata": {
    "executionInfo": {
     "elapsed": 4,
     "status": "ok",
     "timestamp": 1623140082185,
     "user": {
      "displayName": "Ignacio Soteras",
      "photoUrl": "",
      "userId": "02050793736257155229"
     },
     "user_tz": -120
    },
    "id": "jL4kjGt66Fg5"
   },
   "outputs": [],
   "source": [
    "import pandas as pd\n",
    "import numpy as np"
   ]
  },
  {
   "cell_type": "code",
   "execution_count": 119,
   "metadata": {
    "executionInfo": {
     "elapsed": 1346,
     "status": "ok",
     "timestamp": 1623140174431,
     "user": {
      "displayName": "Ignacio Soteras",
      "photoUrl": "",
      "userId": "02050793736257155229"
     },
     "user_tz": -120
    },
    "id": "GVHPs2Qa6Fg5"
   },
   "outputs": [],
   "source": [
    "cars = pd.read_csv(\"vehicles.csv\")"
   ]
  },
  {
   "cell_type": "code",
   "execution_count": 120,
   "metadata": {
    "colab": {
     "base_uri": "https://localhost:8080/",
     "height": 477
    },
    "executionInfo": {
     "elapsed": 233,
     "status": "ok",
     "timestamp": 1623140176638,
     "user": {
      "displayName": "Ignacio Soteras",
      "photoUrl": "",
      "userId": "02050793736257155229"
     },
     "user_tz": -120
    },
    "id": "DseSH7qIPmxQ",
    "outputId": "9954b7e3-8541-4e16-cbce-b5828784b91e"
   },
   "outputs": [
    {
     "data": {
      "text/html": [
       "<div>\n",
       "<style scoped>\n",
       "    .dataframe tbody tr th:only-of-type {\n",
       "        vertical-align: middle;\n",
       "    }\n",
       "\n",
       "    .dataframe tbody tr th {\n",
       "        vertical-align: top;\n",
       "    }\n",
       "\n",
       "    .dataframe thead th {\n",
       "        text-align: right;\n",
       "    }\n",
       "</style>\n",
       "<table border=\"1\" class=\"dataframe\">\n",
       "  <thead>\n",
       "    <tr style=\"text-align: right;\">\n",
       "      <th></th>\n",
       "      <th>Make</th>\n",
       "      <th>Model</th>\n",
       "      <th>Year</th>\n",
       "      <th>Engine Displacement</th>\n",
       "      <th>Cylinders</th>\n",
       "      <th>Transmission</th>\n",
       "      <th>Drivetrain</th>\n",
       "      <th>Vehicle Class</th>\n",
       "      <th>Fuel Type</th>\n",
       "      <th>Fuel Barrels/Year</th>\n",
       "      <th>City MPG</th>\n",
       "      <th>Highway MPG</th>\n",
       "      <th>Combined MPG</th>\n",
       "      <th>CO2 Emission Grams/Mile</th>\n",
       "      <th>Fuel Cost/Year</th>\n",
       "    </tr>\n",
       "  </thead>\n",
       "  <tbody>\n",
       "    <tr>\n",
       "      <th>0</th>\n",
       "      <td>AM General</td>\n",
       "      <td>DJ Po Vehicle 2WD</td>\n",
       "      <td>1984</td>\n",
       "      <td>2.5</td>\n",
       "      <td>4.0</td>\n",
       "      <td>Automatic 3-spd</td>\n",
       "      <td>2-Wheel Drive</td>\n",
       "      <td>Special Purpose Vehicle 2WD</td>\n",
       "      <td>Regular</td>\n",
       "      <td>19.388824</td>\n",
       "      <td>18</td>\n",
       "      <td>17</td>\n",
       "      <td>17</td>\n",
       "      <td>522.764706</td>\n",
       "      <td>1950</td>\n",
       "    </tr>\n",
       "    <tr>\n",
       "      <th>1</th>\n",
       "      <td>AM General</td>\n",
       "      <td>FJ8c Post Office</td>\n",
       "      <td>1984</td>\n",
       "      <td>4.2</td>\n",
       "      <td>6.0</td>\n",
       "      <td>Automatic 3-spd</td>\n",
       "      <td>2-Wheel Drive</td>\n",
       "      <td>Special Purpose Vehicle 2WD</td>\n",
       "      <td>Regular</td>\n",
       "      <td>25.354615</td>\n",
       "      <td>13</td>\n",
       "      <td>13</td>\n",
       "      <td>13</td>\n",
       "      <td>683.615385</td>\n",
       "      <td>2550</td>\n",
       "    </tr>\n",
       "    <tr>\n",
       "      <th>2</th>\n",
       "      <td>AM General</td>\n",
       "      <td>Post Office DJ5 2WD</td>\n",
       "      <td>1985</td>\n",
       "      <td>2.5</td>\n",
       "      <td>4.0</td>\n",
       "      <td>Automatic 3-spd</td>\n",
       "      <td>Rear-Wheel Drive</td>\n",
       "      <td>Special Purpose Vehicle 2WD</td>\n",
       "      <td>Regular</td>\n",
       "      <td>20.600625</td>\n",
       "      <td>16</td>\n",
       "      <td>17</td>\n",
       "      <td>16</td>\n",
       "      <td>555.437500</td>\n",
       "      <td>2100</td>\n",
       "    </tr>\n",
       "    <tr>\n",
       "      <th>3</th>\n",
       "      <td>AM General</td>\n",
       "      <td>Post Office DJ8 2WD</td>\n",
       "      <td>1985</td>\n",
       "      <td>4.2</td>\n",
       "      <td>6.0</td>\n",
       "      <td>Automatic 3-spd</td>\n",
       "      <td>Rear-Wheel Drive</td>\n",
       "      <td>Special Purpose Vehicle 2WD</td>\n",
       "      <td>Regular</td>\n",
       "      <td>25.354615</td>\n",
       "      <td>13</td>\n",
       "      <td>13</td>\n",
       "      <td>13</td>\n",
       "      <td>683.615385</td>\n",
       "      <td>2550</td>\n",
       "    </tr>\n",
       "    <tr>\n",
       "      <th>4</th>\n",
       "      <td>ASC Incorporated</td>\n",
       "      <td>GNX</td>\n",
       "      <td>1987</td>\n",
       "      <td>3.8</td>\n",
       "      <td>6.0</td>\n",
       "      <td>Automatic 4-spd</td>\n",
       "      <td>Rear-Wheel Drive</td>\n",
       "      <td>Midsize Cars</td>\n",
       "      <td>Premium</td>\n",
       "      <td>20.600625</td>\n",
       "      <td>14</td>\n",
       "      <td>21</td>\n",
       "      <td>16</td>\n",
       "      <td>555.437500</td>\n",
       "      <td>2550</td>\n",
       "    </tr>\n",
       "    <tr>\n",
       "      <th>...</th>\n",
       "      <td>...</td>\n",
       "      <td>...</td>\n",
       "      <td>...</td>\n",
       "      <td>...</td>\n",
       "      <td>...</td>\n",
       "      <td>...</td>\n",
       "      <td>...</td>\n",
       "      <td>...</td>\n",
       "      <td>...</td>\n",
       "      <td>...</td>\n",
       "      <td>...</td>\n",
       "      <td>...</td>\n",
       "      <td>...</td>\n",
       "      <td>...</td>\n",
       "      <td>...</td>\n",
       "    </tr>\n",
       "    <tr>\n",
       "      <th>495</th>\n",
       "      <td>Aston Martin</td>\n",
       "      <td>Vantage GT</td>\n",
       "      <td>2016</td>\n",
       "      <td>4.7</td>\n",
       "      <td>8.0</td>\n",
       "      <td>Auto(AM7)</td>\n",
       "      <td>Rear-Wheel Drive</td>\n",
       "      <td>Two Seaters</td>\n",
       "      <td>Premium</td>\n",
       "      <td>20.600625</td>\n",
       "      <td>14</td>\n",
       "      <td>21</td>\n",
       "      <td>16</td>\n",
       "      <td>552.000000</td>\n",
       "      <td>2550</td>\n",
       "    </tr>\n",
       "    <tr>\n",
       "      <th>496</th>\n",
       "      <td>Aston Martin</td>\n",
       "      <td>Virage</td>\n",
       "      <td>2012</td>\n",
       "      <td>5.9</td>\n",
       "      <td>12.0</td>\n",
       "      <td>Automatic (S6)</td>\n",
       "      <td>Rear-Wheel Drive</td>\n",
       "      <td>Minicompact Cars</td>\n",
       "      <td>Premium</td>\n",
       "      <td>21.974000</td>\n",
       "      <td>13</td>\n",
       "      <td>18</td>\n",
       "      <td>15</td>\n",
       "      <td>592.466667</td>\n",
       "      <td>2700</td>\n",
       "    </tr>\n",
       "    <tr>\n",
       "      <th>497</th>\n",
       "      <td>Aston Martin</td>\n",
       "      <td>Virage Saloon</td>\n",
       "      <td>1991</td>\n",
       "      <td>5.3</td>\n",
       "      <td>8.0</td>\n",
       "      <td>Automatic 3-spd</td>\n",
       "      <td>Rear-Wheel Drive</td>\n",
       "      <td>Subcompact Cars</td>\n",
       "      <td>Premium</td>\n",
       "      <td>27.467500</td>\n",
       "      <td>10</td>\n",
       "      <td>14</td>\n",
       "      <td>12</td>\n",
       "      <td>740.583333</td>\n",
       "      <td>3400</td>\n",
       "    </tr>\n",
       "    <tr>\n",
       "      <th>498</th>\n",
       "      <td>Aston Martin</td>\n",
       "      <td>Virage Saloon</td>\n",
       "      <td>1991</td>\n",
       "      <td>5.3</td>\n",
       "      <td>8.0</td>\n",
       "      <td>Manual 5-spd</td>\n",
       "      <td>Rear-Wheel Drive</td>\n",
       "      <td>Subcompact Cars</td>\n",
       "      <td>Premium</td>\n",
       "      <td>25.354615</td>\n",
       "      <td>11</td>\n",
       "      <td>16</td>\n",
       "      <td>13</td>\n",
       "      <td>683.615385</td>\n",
       "      <td>3100</td>\n",
       "    </tr>\n",
       "    <tr>\n",
       "      <th>499</th>\n",
       "      <td>Aston Martin</td>\n",
       "      <td>Virage Saloon</td>\n",
       "      <td>1992</td>\n",
       "      <td>5.3</td>\n",
       "      <td>8.0</td>\n",
       "      <td>Automatic 3-spd</td>\n",
       "      <td>Rear-Wheel Drive</td>\n",
       "      <td>Subcompact Cars</td>\n",
       "      <td>Premium</td>\n",
       "      <td>27.467500</td>\n",
       "      <td>10</td>\n",
       "      <td>14</td>\n",
       "      <td>12</td>\n",
       "      <td>740.583333</td>\n",
       "      <td>3400</td>\n",
       "    </tr>\n",
       "  </tbody>\n",
       "</table>\n",
       "<p>500 rows × 15 columns</p>\n",
       "</div>"
      ],
      "text/plain": [
       "                 Make                Model  Year  Engine Displacement  \\\n",
       "0          AM General    DJ Po Vehicle 2WD  1984                  2.5   \n",
       "1          AM General     FJ8c Post Office  1984                  4.2   \n",
       "2          AM General  Post Office DJ5 2WD  1985                  2.5   \n",
       "3          AM General  Post Office DJ8 2WD  1985                  4.2   \n",
       "4    ASC Incorporated                  GNX  1987                  3.8   \n",
       "..                ...                  ...   ...                  ...   \n",
       "495      Aston Martin           Vantage GT  2016                  4.7   \n",
       "496      Aston Martin               Virage  2012                  5.9   \n",
       "497      Aston Martin        Virage Saloon  1991                  5.3   \n",
       "498      Aston Martin        Virage Saloon  1991                  5.3   \n",
       "499      Aston Martin        Virage Saloon  1992                  5.3   \n",
       "\n",
       "     Cylinders     Transmission        Drivetrain  \\\n",
       "0          4.0  Automatic 3-spd     2-Wheel Drive   \n",
       "1          6.0  Automatic 3-spd     2-Wheel Drive   \n",
       "2          4.0  Automatic 3-spd  Rear-Wheel Drive   \n",
       "3          6.0  Automatic 3-spd  Rear-Wheel Drive   \n",
       "4          6.0  Automatic 4-spd  Rear-Wheel Drive   \n",
       "..         ...              ...               ...   \n",
       "495        8.0        Auto(AM7)  Rear-Wheel Drive   \n",
       "496       12.0   Automatic (S6)  Rear-Wheel Drive   \n",
       "497        8.0  Automatic 3-spd  Rear-Wheel Drive   \n",
       "498        8.0     Manual 5-spd  Rear-Wheel Drive   \n",
       "499        8.0  Automatic 3-spd  Rear-Wheel Drive   \n",
       "\n",
       "                   Vehicle Class Fuel Type  Fuel Barrels/Year  City MPG  \\\n",
       "0    Special Purpose Vehicle 2WD   Regular          19.388824        18   \n",
       "1    Special Purpose Vehicle 2WD   Regular          25.354615        13   \n",
       "2    Special Purpose Vehicle 2WD   Regular          20.600625        16   \n",
       "3    Special Purpose Vehicle 2WD   Regular          25.354615        13   \n",
       "4                   Midsize Cars   Premium          20.600625        14   \n",
       "..                           ...       ...                ...       ...   \n",
       "495                  Two Seaters   Premium          20.600625        14   \n",
       "496             Minicompact Cars   Premium          21.974000        13   \n",
       "497              Subcompact Cars   Premium          27.467500        10   \n",
       "498              Subcompact Cars   Premium          25.354615        11   \n",
       "499              Subcompact Cars   Premium          27.467500        10   \n",
       "\n",
       "     Highway MPG  Combined MPG  CO2 Emission Grams/Mile  Fuel Cost/Year  \n",
       "0             17            17               522.764706            1950  \n",
       "1             13            13               683.615385            2550  \n",
       "2             17            16               555.437500            2100  \n",
       "3             13            13               683.615385            2550  \n",
       "4             21            16               555.437500            2550  \n",
       "..           ...           ...                      ...             ...  \n",
       "495           21            16               552.000000            2550  \n",
       "496           18            15               592.466667            2700  \n",
       "497           14            12               740.583333            3400  \n",
       "498           16            13               683.615385            3100  \n",
       "499           14            12               740.583333            3400  \n",
       "\n",
       "[500 rows x 15 columns]"
      ]
     },
     "execution_count": 120,
     "metadata": {},
     "output_type": "execute_result"
    }
   ],
   "source": [
    "cars[0:500]"
   ]
  },
  {
   "cell_type": "code",
   "execution_count": 121,
   "metadata": {
    "colab": {
     "base_uri": "https://localhost:8080/"
    },
    "executionInfo": {
     "elapsed": 226,
     "status": "ok",
     "timestamp": 1623140221705,
     "user": {
      "displayName": "Ignacio Soteras",
      "photoUrl": "",
      "userId": "02050793736257155229"
     },
     "user_tz": -120
    },
    "id": "-FT85oMVPxlW",
    "outputId": "c9f5d2c8-d3c2-4acc-edec-914a92c7f60b"
   },
   "outputs": [
    {
     "name": "stdout",
     "output_type": "stream",
     "text": [
      "<class 'pandas.core.frame.DataFrame'>\n",
      "RangeIndex: 35952 entries, 0 to 35951\n",
      "Data columns (total 15 columns):\n",
      " #   Column                   Non-Null Count  Dtype  \n",
      "---  ------                   --------------  -----  \n",
      " 0   Make                     35952 non-null  object \n",
      " 1   Model                    35952 non-null  object \n",
      " 2   Year                     35952 non-null  int64  \n",
      " 3   Engine Displacement      35952 non-null  float64\n",
      " 4   Cylinders                35952 non-null  float64\n",
      " 5   Transmission             35952 non-null  object \n",
      " 6   Drivetrain               35952 non-null  object \n",
      " 7   Vehicle Class            35952 non-null  object \n",
      " 8   Fuel Type                35952 non-null  object \n",
      " 9   Fuel Barrels/Year        35952 non-null  float64\n",
      " 10  City MPG                 35952 non-null  int64  \n",
      " 11  Highway MPG              35952 non-null  int64  \n",
      " 12  Combined MPG             35952 non-null  int64  \n",
      " 13  CO2 Emission Grams/Mile  35952 non-null  float64\n",
      " 14  Fuel Cost/Year           35952 non-null  int64  \n",
      "dtypes: float64(4), int64(5), object(6)\n",
      "memory usage: 4.1+ MB\n"
     ]
    }
   ],
   "source": [
    "cars.info()"
   ]
  },
  {
   "cell_type": "markdown",
   "metadata": {
    "id": "Yk72_YtZ6Fg5"
   },
   "source": [
    "First exploration of the dataset:\n",
    "\n",
    "- How many observations does it have?\n",
    "- Look at all the columns: do you understand what they mean?\n",
    "- Look at the raw data: do you see anything weird?\n",
    "- Look at the data types: are they the expected ones for the information the column contains?"
   ]
  },
  {
   "cell_type": "code",
   "execution_count": 122,
   "metadata": {
    "colab": {
     "base_uri": "https://localhost:8080/"
    },
    "executionInfo": {
     "elapsed": 245,
     "status": "ok",
     "timestamp": 1623140512002,
     "user": {
      "displayName": "Ignacio Soteras",
      "photoUrl": "",
      "userId": "02050793736257155229"
     },
     "user_tz": -120
    },
    "id": "-gp8XWSM6Fg6",
    "outputId": "7ab8355f-3b30-4fd2-f07c-33406d1472d0"
   },
   "outputs": [
    {
     "data": {
      "text/plain": [
       "(35952, 15)"
      ]
     },
     "execution_count": 122,
     "metadata": {},
     "output_type": "execute_result"
    }
   ],
   "source": [
    "cars.shape"
   ]
  },
  {
   "cell_type": "markdown",
   "metadata": {
    "id": "tqcFYXUk6Fg6"
   },
   "source": [
    "### Cleaning and wrangling data\n",
    "\n",
    "- Some car brand names refer to the same brand. Replace all brand names that contain the word \"Dutton\" for simply \"Dutton\". If you find similar examples, clean their names too. Use `loc` with boolean indexing.\n",
    "\n",
    "- Convert CO2 Emissions from Grams/Mile to Grams/Km\n",
    "\n",
    "- Create a binary column that solely indicates if the transmission of a car is automatic or manual. Use `pandas.Series.str.startswith` and .\n",
    "\n",
    "- convert MPG columns to km_per_liter"
   ]
  },
  {
   "cell_type": "code",
   "execution_count": 123,
   "metadata": {
    "colab": {
     "base_uri": "https://localhost:8080/"
    },
    "executionInfo": {
     "elapsed": 239,
     "status": "ok",
     "timestamp": 1623140685861,
     "user": {
      "displayName": "Ignacio Soteras",
      "photoUrl": "",
      "userId": "02050793736257155229"
     },
     "user_tz": -120
    },
    "id": "jPtYqxszRc_h",
    "outputId": "b7a82779-98d2-4f55-e8d7-4a9202cc1274"
   },
   "outputs": [
    {
     "data": {
      "text/plain": [
       "Chevrolet                             3643\n",
       "Ford                                  2946\n",
       "Dodge                                 2360\n",
       "GMC                                   2347\n",
       "Toyota                                1836\n",
       "                                      ... \n",
       "Fisker                                   1\n",
       "S and S Coach Company  E.p. Dutton       1\n",
       "Environmental Rsch and Devp Corp         1\n",
       "Lambda Control Systems                   1\n",
       "London Taxi                              1\n",
       "Name: Make, Length: 127, dtype: int64"
      ]
     },
     "execution_count": 123,
     "metadata": {},
     "output_type": "execute_result"
    }
   ],
   "source": [
    "cars['Make'].value_counts()"
   ]
  },
  {
   "cell_type": "code",
   "execution_count": 124,
   "metadata": {
    "colab": {
     "base_uri": "https://localhost:8080/"
    },
    "executionInfo": {
     "elapsed": 242,
     "status": "ok",
     "timestamp": 1623140716417,
     "user": {
      "displayName": "Ignacio Soteras",
      "photoUrl": "",
      "userId": "02050793736257155229"
     },
     "user_tz": -120
    },
    "id": "8UU6auKB6Fg6",
    "outputId": "b31a8e75-77ce-432a-9dae-16b4ff01413e"
   },
   "outputs": [
    {
     "data": {
      "text/plain": [
       "['AM General',\n",
       " 'ASC Incorporated',\n",
       " 'Acura',\n",
       " 'Alfa Romeo',\n",
       " 'American Motors Corporation',\n",
       " 'Aston Martin',\n",
       " 'Audi',\n",
       " 'Aurora Cars Ltd',\n",
       " 'Autokraft Limited',\n",
       " 'BMW',\n",
       " 'BMW Alpina',\n",
       " 'Bentley',\n",
       " 'Bertone',\n",
       " 'Bill Dovell Motor Car Company',\n",
       " 'Bitter Gmbh and Co. Kg',\n",
       " 'Bugatti',\n",
       " 'Buick',\n",
       " 'CCC Engineering',\n",
       " 'CX Automotive',\n",
       " 'Cadillac',\n",
       " 'Chevrolet',\n",
       " 'Chrysler',\n",
       " 'Consulier Industries Inc',\n",
       " 'Dabryan Coach Builders Inc',\n",
       " 'Dacia',\n",
       " 'Daewoo',\n",
       " 'Daihatsu',\n",
       " 'Dodge',\n",
       " 'E. P. Dutton, Inc.',\n",
       " 'Eagle',\n",
       " 'Environmental Rsch and Devp Corp',\n",
       " 'Evans Automobiles',\n",
       " 'Excalibur Autos',\n",
       " 'Federal Coach',\n",
       " 'Ferrari',\n",
       " 'Fiat',\n",
       " 'Fisker',\n",
       " 'Ford',\n",
       " 'GMC',\n",
       " 'General Motors',\n",
       " 'Genesis',\n",
       " 'Geo',\n",
       " 'Goldacre',\n",
       " 'Grumman Allied Industries',\n",
       " 'Grumman Olson',\n",
       " 'Honda',\n",
       " 'Hummer',\n",
       " 'Hyundai',\n",
       " 'Import Foreign Auto Sales Inc',\n",
       " 'Import Trade Services',\n",
       " 'Infiniti',\n",
       " 'Isis Imports Ltd',\n",
       " 'Isuzu',\n",
       " 'J.K. Motors',\n",
       " 'JBA Motorcars, Inc.',\n",
       " 'Jaguar',\n",
       " 'Jeep',\n",
       " 'Kia',\n",
       " 'Laforza Automobile Inc',\n",
       " 'Lambda Control Systems',\n",
       " 'Lamborghini',\n",
       " 'Land Rover',\n",
       " 'Lexus',\n",
       " 'Lincoln',\n",
       " 'London Coach Co Inc',\n",
       " 'London Taxi',\n",
       " 'Lotus',\n",
       " 'MINI',\n",
       " 'Mahindra',\n",
       " 'Maserati',\n",
       " 'Maybach',\n",
       " 'Mazda',\n",
       " 'McLaren Automotive',\n",
       " 'Mcevoy Motors',\n",
       " 'Mercedes-Benz',\n",
       " 'Mercury',\n",
       " 'Merkur',\n",
       " 'Mitsubishi',\n",
       " 'Mobility Ventures LLC',\n",
       " 'Morgan',\n",
       " 'Nissan',\n",
       " 'Oldsmobile',\n",
       " 'PAS Inc - GMC',\n",
       " 'PAS, Inc',\n",
       " 'Pagani',\n",
       " 'Panos',\n",
       " 'Panoz Auto-Development',\n",
       " 'Panther Car Company Limited',\n",
       " 'Peugeot',\n",
       " 'Pininfarina',\n",
       " 'Plymouth',\n",
       " 'Pontiac',\n",
       " 'Porsche',\n",
       " 'Quantum Technologies',\n",
       " 'Qvale',\n",
       " 'Ram',\n",
       " 'Red Shift Ltd.',\n",
       " 'Renault',\n",
       " 'Rolls-Royce',\n",
       " 'Roush Performance',\n",
       " 'Ruf Automobile Gmbh',\n",
       " 'S and S Coach Company  E.p. Dutton',\n",
       " 'SRT',\n",
       " 'Saab',\n",
       " 'Saleen',\n",
       " 'Saleen Performance',\n",
       " 'Saturn',\n",
       " 'Scion',\n",
       " 'Shelby',\n",
       " 'Spyker',\n",
       " 'Sterling',\n",
       " 'Subaru',\n",
       " 'Superior Coaches Div E.p. Dutton',\n",
       " 'Suzuki',\n",
       " 'TVR Engineering Ltd',\n",
       " 'Tecstar, LP',\n",
       " 'Texas Coach Company',\n",
       " 'Toyota',\n",
       " 'VPG',\n",
       " 'Vector',\n",
       " 'Vixen Motor Company',\n",
       " 'Volga Associated Automobile',\n",
       " 'Volkswagen',\n",
       " 'Volvo',\n",
       " 'Wallace Environmental',\n",
       " 'Yugo',\n",
       " 'smart']"
      ]
     },
     "execution_count": 124,
     "metadata": {},
     "output_type": "execute_result"
    }
   ],
   "source": [
    "list(cars['Make'].unique())"
   ]
  },
  {
   "cell_type": "code",
   "execution_count": 125,
   "metadata": {
    "colab": {
     "base_uri": "https://localhost:8080/"
    },
    "executionInfo": {
     "elapsed": 257,
     "status": "ok",
     "timestamp": 1623141705570,
     "user": {
      "displayName": "Ignacio Soteras",
      "photoUrl": "",
      "userId": "02050793736257155229"
     },
     "user_tz": -120
    },
    "id": "NjwAA-WKyLJb",
    "outputId": "e1839486-8e64-4d0e-9410-c423ab9375a9"
   },
   "outputs": [
    {
     "data": {
      "text/plain": [
       "array(['AM General', 'ASC Incorporated', 'Acura', 'Alfa Romeo',\n",
       "       'American Motors Corporation', 'Aston Martin', 'Audi',\n",
       "       'Aurora Cars Ltd', 'Autokraft Limited', 'BMW', 'BMW Alpina',\n",
       "       'Bentley', 'Bertone', 'Bill Dovell Motor Car Company',\n",
       "       'Bitter Gmbh and Co. Kg', 'Bugatti', 'Buick', 'CCC Engineering',\n",
       "       'CX Automotive', 'Cadillac', 'Chevrolet', 'Chrysler',\n",
       "       'Consulier Industries Inc', 'Dabryan Coach Builders Inc', 'Dacia',\n",
       "       'Daewoo', 'Daihatsu', 'Dodge', 'E. P. Dutton, Inc.', 'Eagle',\n",
       "       'Environmental Rsch and Devp Corp', 'Evans Automobiles',\n",
       "       'Excalibur Autos', 'Federal Coach', 'Ferrari', 'Fiat', 'Fisker',\n",
       "       'Ford', 'GMC', 'General Motors', 'Genesis', 'Geo', 'Goldacre',\n",
       "       'Grumman Allied Industries', 'Grumman Olson', 'Honda', 'Hummer',\n",
       "       'Hyundai', 'Import Foreign Auto Sales Inc',\n",
       "       'Import Trade Services', 'Infiniti', 'Isis Imports Ltd', 'Isuzu',\n",
       "       'J.K. Motors', 'JBA Motorcars, Inc.', 'Jaguar', 'Jeep', 'Kia',\n",
       "       'Laforza Automobile Inc', 'Lambda Control Systems', 'Lamborghini',\n",
       "       'Land Rover', 'Lexus', 'Lincoln', 'London Coach Co Inc',\n",
       "       'London Taxi', 'Lotus', 'MINI', 'Mahindra', 'Maserati', 'Maybach',\n",
       "       'Mazda', 'McLaren Automotive', 'Mcevoy Motors', 'Mercedes-Benz',\n",
       "       'Mercury', 'Merkur', 'Mitsubishi', 'Mobility Ventures LLC',\n",
       "       'Morgan', 'Nissan', 'Oldsmobile', 'PAS Inc - GMC', 'PAS, Inc',\n",
       "       'Pagani', 'Panos', 'Panoz Auto-Development',\n",
       "       'Panther Car Company Limited', 'Peugeot', 'Pininfarina',\n",
       "       'Plymouth', 'Pontiac', 'Porsche', 'Quantum Technologies', 'Qvale',\n",
       "       'Ram', 'Red Shift Ltd.', 'Renault', 'Rolls-Royce',\n",
       "       'Roush Performance', 'Ruf Automobile Gmbh',\n",
       "       'S and S Coach Company  E.p. Dutton', 'SRT', 'Saab', 'Saleen',\n",
       "       'Saleen Performance', 'Saturn', 'Scion', 'Shelby', 'Spyker',\n",
       "       'Sterling', 'Subaru', 'Superior Coaches Div E.p. Dutton', 'Suzuki',\n",
       "       'TVR Engineering Ltd', 'Tecstar, LP', 'Texas Coach Company',\n",
       "       'Toyota', 'VPG', 'Vector', 'Vixen Motor Company',\n",
       "       'Volga Associated Automobile', 'Volkswagen', 'Volvo',\n",
       "       'Wallace Environmental', 'Yugo', 'smart'], dtype=object)"
      ]
     },
     "execution_count": 125,
     "metadata": {},
     "output_type": "execute_result"
    }
   ],
   "source": [
    "cars['Make'].unique()"
   ]
  },
  {
   "cell_type": "code",
   "execution_count": 126,
   "metadata": {
    "executionInfo": {
     "elapsed": 226,
     "status": "ok",
     "timestamp": 1623141746687,
     "user": {
      "displayName": "Ignacio Soteras",
      "photoUrl": "",
      "userId": "02050793736257155229"
     },
     "user_tz": -120
    },
    "id": "cXnSYn7gVGCG"
   },
   "outputs": [],
   "source": [
    "cars['Make'] = list(map(lambda x: \"BMW\" if ( \"BMW\" in x ) else x, cars['Make']))"
   ]
  },
  {
   "cell_type": "code",
   "execution_count": 127,
   "metadata": {
    "executionInfo": {
     "elapsed": 405,
     "status": "ok",
     "timestamp": 1623141759573,
     "user": {
      "displayName": "Ignacio Soteras",
      "photoUrl": "",
      "userId": "02050793736257155229"
     },
     "user_tz": -120
    },
    "id": "QT-VaN3lVa_F"
   },
   "outputs": [],
   "source": [
    "cars['Make'] = list(map(lambda x: \"AMG\" if ( \"AM\" in x ) else x, cars['Make']))"
   ]
  },
  {
   "cell_type": "code",
   "execution_count": 128,
   "metadata": {
    "executionInfo": {
     "elapsed": 245,
     "status": "ok",
     "timestamp": 1623141772610,
     "user": {
      "displayName": "Ignacio Soteras",
      "photoUrl": "",
      "userId": "02050793736257155229"
     },
     "user_tz": -120
    },
    "id": "5Lle_GobVkDV"
   },
   "outputs": [],
   "source": [
    "cars['Make'] = list(map(lambda x: \"ASC\" if ( \"ASC \" in x ) else x, cars['Make']))"
   ]
  },
  {
   "cell_type": "code",
   "execution_count": 129,
   "metadata": {
    "executionInfo": {
     "elapsed": 231,
     "status": "ok",
     "timestamp": 1623141830252,
     "user": {
      "displayName": "Ignacio Soteras",
      "photoUrl": "",
      "userId": "02050793736257155229"
     },
     "user_tz": -120
    },
    "id": "q6yhL1-eVwUG"
   },
   "outputs": [],
   "source": [
    "cars['Make'] = list(map(lambda x: \"Grumman\" if ( \"Grumman \" in x ) else x, cars['Make']))"
   ]
  },
  {
   "cell_type": "code",
   "execution_count": 130,
   "metadata": {
    "executionInfo": {
     "elapsed": 236,
     "status": "ok",
     "timestamp": 1623141836673,
     "user": {
      "displayName": "Ignacio Soteras",
      "photoUrl": "",
      "userId": "02050793736257155229"
     },
     "user_tz": -120
    },
    "id": "1ZBjo4Z3WLkR"
   },
   "outputs": [],
   "source": [
    "cars['Make'] = list(map(lambda x: \"PAS, Inc\" if ( \"PAS \" in x ) else x, cars['Make']))"
   ]
  },
  {
   "cell_type": "code",
   "execution_count": 131,
   "metadata": {
    "colab": {
     "base_uri": "https://localhost:8080/"
    },
    "executionInfo": {
     "elapsed": 244,
     "status": "ok",
     "timestamp": 1623141840451,
     "user": {
      "displayName": "Ignacio Soteras",
      "photoUrl": "",
      "userId": "02050793736257155229"
     },
     "user_tz": -120
    },
    "id": "bVMhO50AU3nj",
    "outputId": "ed1c2323-36ae-4113-efbb-6adb22b6f02b"
   },
   "outputs": [
    {
     "data": {
      "text/plain": [
       "Chevrolet                 3643\n",
       "Ford                      2946\n",
       "Dodge                     2360\n",
       "GMC                       2347\n",
       "Toyota                    1836\n",
       "                          ... \n",
       "Lambda Control Systems       1\n",
       "ASC                          1\n",
       "Goldacre                     1\n",
       "Mahindra                     1\n",
       "London Taxi                  1\n",
       "Name: Make, Length: 124, dtype: int64"
      ]
     },
     "execution_count": 131,
     "metadata": {},
     "output_type": "execute_result"
    }
   ],
   "source": [
    "cars['Make'].value_counts()"
   ]
  },
  {
   "cell_type": "markdown",
   "metadata": {
    "id": "e_r1ZfaxWfaq"
   },
   "source": [
    "Converting Grams/Mile to Grams/Km\n",
    "\n",
    "1 Mile = 1.60934 Km\n",
    "\n",
    "Grams/Mile * Mile/Km -> Grams/Mile * 1 Mile/1.60934Km\n",
    "\n",
    "$$ \\frac{Grams}{Mile} * \\frac{Mile}{Km} $$\n",
    "\n",
    "$$ \\frac{Grams}{Mile} * \\frac{1 Mile}{1.60934Km}  $$"
   ]
  },
  {
   "cell_type": "code",
   "execution_count": 132,
   "metadata": {
    "colab": {
     "base_uri": "https://localhost:8080/"
    },
    "executionInfo": {
     "elapsed": 225,
     "status": "ok",
     "timestamp": 1623141959611,
     "user": {
      "displayName": "Ignacio Soteras",
      "photoUrl": "",
      "userId": "02050793736257155229"
     },
     "user_tz": -120
    },
    "id": "rc-EcP2KXjq2",
    "outputId": "b58f5d67-6a07-4504-ab8c-88b092c071a9"
   },
   "outputs": [
    {
     "data": {
      "text/plain": [
       "['Make',\n",
       " 'Model',\n",
       " 'Year',\n",
       " 'Engine Displacement',\n",
       " 'Cylinders',\n",
       " 'Transmission',\n",
       " 'Drivetrain',\n",
       " 'Vehicle Class',\n",
       " 'Fuel Type',\n",
       " 'Fuel Barrels/Year',\n",
       " 'City MPG',\n",
       " 'Highway MPG',\n",
       " 'Combined MPG',\n",
       " 'CO2 Emission Grams/Mile',\n",
       " 'Fuel Cost/Year']"
      ]
     },
     "execution_count": 132,
     "metadata": {},
     "output_type": "execute_result"
    }
   ],
   "source": [
    "list(cars.columns)"
   ]
  },
  {
   "cell_type": "code",
   "execution_count": 133,
   "metadata": {
    "executionInfo": {
     "elapsed": 231,
     "status": "ok",
     "timestamp": 1623142022212,
     "user": {
      "displayName": "Ignacio Soteras",
      "photoUrl": "",
      "userId": "02050793736257155229"
     },
     "user_tz": -120
    },
    "id": "t18eGEr8WxdZ"
   },
   "outputs": [],
   "source": [
    "cars['CO2 Emission Grams/Km'] = list(map(lambda x: x / 1.60934  ,cars['CO2 Emission Grams/Mile']))"
   ]
  },
  {
   "cell_type": "code",
   "execution_count": 134,
   "metadata": {
    "colab": {
     "base_uri": "https://localhost:8080/"
    },
    "executionInfo": {
     "elapsed": 218,
     "status": "ok",
     "timestamp": 1623142032338,
     "user": {
      "displayName": "Ignacio Soteras",
      "photoUrl": "",
      "userId": "02050793736257155229"
     },
     "user_tz": -120
    },
    "id": "0wTBFR3AYNds",
    "outputId": "490d95f2-9bac-4f4f-d4ba-6a4000171ff3"
   },
   "outputs": [
    {
     "data": {
      "text/plain": [
       "['Make',\n",
       " 'Model',\n",
       " 'Year',\n",
       " 'Engine Displacement',\n",
       " 'Cylinders',\n",
       " 'Transmission',\n",
       " 'Drivetrain',\n",
       " 'Vehicle Class',\n",
       " 'Fuel Type',\n",
       " 'Fuel Barrels/Year',\n",
       " 'City MPG',\n",
       " 'Highway MPG',\n",
       " 'Combined MPG',\n",
       " 'CO2 Emission Grams/Mile',\n",
       " 'Fuel Cost/Year',\n",
       " 'CO2 Emission Grams/Km']"
      ]
     },
     "execution_count": 134,
     "metadata": {},
     "output_type": "execute_result"
    }
   ],
   "source": [
    "list(cars.columns)"
   ]
  },
  {
   "cell_type": "code",
   "execution_count": 135,
   "metadata": {
    "executionInfo": {
     "elapsed": 231,
     "status": "ok",
     "timestamp": 1623142091167,
     "user": {
      "displayName": "Ignacio Soteras",
      "photoUrl": "",
      "userId": "02050793736257155229"
     },
     "user_tz": -120
    },
    "id": "oe8GhnwlYSGg"
   },
   "outputs": [],
   "source": [
    "cars = cars.drop(columns=\"CO2 Emission Grams/Mile\")\n",
    "#cars.drop(columns=\"CO2 Emission Grams/Mile\", inplace=True)"
   ]
  },
  {
   "cell_type": "code",
   "execution_count": 136,
   "metadata": {
    "colab": {
     "base_uri": "https://localhost:8080/"
    },
    "executionInfo": {
     "elapsed": 240,
     "status": "ok",
     "timestamp": 1623142094820,
     "user": {
      "displayName": "Ignacio Soteras",
      "photoUrl": "",
      "userId": "02050793736257155229"
     },
     "user_tz": -120
    },
    "id": "yVLlb6AiYr5q",
    "outputId": "c0eadf48-c4f3-46d1-9f60-88a5f4ba90ae"
   },
   "outputs": [
    {
     "data": {
      "text/plain": [
       "['Make',\n",
       " 'Model',\n",
       " 'Year',\n",
       " 'Engine Displacement',\n",
       " 'Cylinders',\n",
       " 'Transmission',\n",
       " 'Drivetrain',\n",
       " 'Vehicle Class',\n",
       " 'Fuel Type',\n",
       " 'Fuel Barrels/Year',\n",
       " 'City MPG',\n",
       " 'Highway MPG',\n",
       " 'Combined MPG',\n",
       " 'Fuel Cost/Year',\n",
       " 'CO2 Emission Grams/Km']"
      ]
     },
     "execution_count": 136,
     "metadata": {},
     "output_type": "execute_result"
    }
   ],
   "source": [
    "list(cars.columns)"
   ]
  },
  {
   "cell_type": "markdown",
   "metadata": {
    "id": "SL_d-bF0Y7Fb"
   },
   "source": [
    "Replacing the column `Transmission` with either Transmission or Manual"
   ]
  },
  {
   "cell_type": "code",
   "execution_count": 137,
   "metadata": {
    "colab": {
     "base_uri": "https://localhost:8080/"
    },
    "executionInfo": {
     "elapsed": 225,
     "status": "ok",
     "timestamp": 1623142123412,
     "user": {
      "displayName": "Ignacio Soteras",
      "photoUrl": "",
      "userId": "02050793736257155229"
     },
     "user_tz": -120
    },
    "id": "6Ddgo7FGZKZU",
    "outputId": "adedb70b-4858-492a-d354-be5c4e76b90a"
   },
   "outputs": [
    {
     "data": {
      "text/plain": [
       "0    Automatic 3-spd\n",
       "1    Automatic 3-spd\n",
       "2    Automatic 3-spd\n",
       "3    Automatic 3-spd\n",
       "4    Automatic 4-spd\n",
       "Name: Transmission, dtype: object"
      ]
     },
     "execution_count": 137,
     "metadata": {},
     "output_type": "execute_result"
    }
   ],
   "source": [
    "cars['Transmission'].head()"
   ]
  },
  {
   "cell_type": "code",
   "execution_count": 138,
   "metadata": {
    "colab": {
     "base_uri": "https://localhost:8080/"
    },
    "executionInfo": {
     "elapsed": 248,
     "status": "ok",
     "timestamp": 1623142144062,
     "user": {
      "displayName": "Ignacio Soteras",
      "photoUrl": "",
      "userId": "02050793736257155229"
     },
     "user_tz": -120
    },
    "id": "MvNzkcdez2c2",
    "outputId": "ea3ac9cd-5a88-4bc3-fb96-958ee635b289"
   },
   "outputs": [
    {
     "data": {
      "text/plain": [
       "array(['Automatic 3-spd', 'Automatic 4-spd', 'Manual 5-spd',\n",
       "       'Automatic (S5)', 'Manual 6-spd', 'Automatic 5-spd', 'Auto(AM8)',\n",
       "       'Auto(AM-S8)', 'Auto(AV-S7)', 'Automatic (S6)', 'Automatic (S9)',\n",
       "       'Automatic (S4)', 'Auto(AM-S9)', 'Automatic (S7)', 'Auto(AM7)',\n",
       "       'Auto(AM-S7)', 'Auto(AM6)', 'Automatic 6-spd', 'Manual 4-spd',\n",
       "       'Automatic (S8)', 'Manual(M7)', 'Auto(AM-S6)',\n",
       "       'Automatic (variable gear ratios)', 'Automatic (AV)',\n",
       "       'Auto(AV-S8)', 'Automatic (AM6)', 'Automatic 8-spd', 'Auto(A1)',\n",
       "       'Automatic (A1)', 'Automatic (A6)', 'Auto(AV-S6)', 'Manual 3-spd',\n",
       "       'Manual 7-spd', 'Automatic 9-spd', 'Auto (AV)', 'Automatic 6spd',\n",
       "       'Auto(L4)', 'Auto(L3)', 'Auto (AV-S6)', 'Auto (AV-S8)',\n",
       "       'Automatic (AV-S6)', 'Automatic 7-spd', 'Manual 5 spd',\n",
       "       'Auto(AM5)', 'Automatic (AM5)'], dtype=object)"
      ]
     },
     "execution_count": 138,
     "metadata": {},
     "output_type": "execute_result"
    }
   ],
   "source": [
    "cars['Transmission'].unique()"
   ]
  },
  {
   "cell_type": "code",
   "execution_count": 139,
   "metadata": {
    "executionInfo": {
     "elapsed": 268,
     "status": "ok",
     "timestamp": 1623142821387,
     "user": {
      "displayName": "Ignacio Soteras",
      "photoUrl": "",
      "userId": "02050793736257155229"
     },
     "user_tz": -120
    },
    "id": "J55-t9f5Z4iI"
   },
   "outputs": [],
   "source": [
    "cars['Transmission'] = list( map(lambda x: \"Automatic\" if (\"Auto\" in x) else \"Manual\",cars['Transmission']) )"
   ]
  },
  {
   "cell_type": "markdown",
   "metadata": {
    "id": "R-jWHEisa3nF"
   },
   "source": [
    "convert MPG columns to km_per_liter\n",
    "\n",
    "MPG = Miles/Gallon -> Km/Liter\n",
    "\n",
    "1 Mile = 1.60934 Km\n",
    "\n",
    "1 Gallon = 3.78541 Liters\n",
    "\n",
    "$$ \\frac{Miles}{Gallon} -> \\frac{Miles}{Gallon} * \\frac{Km}{Miles} * \\frac{Gallon}{Liters}$$\n",
    "\n",
    "$$ \\frac{Miles}{Gallon} -> \\frac{Miles}{Gallon} * \\frac{1.60934Km}{ 1Miles} * \\frac{1 Gallon}{3.78541 Liters}$$\n",
    "\n",
    "* ( 1.60934 / 3.78541 )\n"
   ]
  },
  {
   "cell_type": "code",
   "execution_count": 140,
   "metadata": {
    "colab": {
     "base_uri": "https://localhost:8080/"
    },
    "executionInfo": {
     "elapsed": 459,
     "status": "ok",
     "timestamp": 1617096395851,
     "user": {
      "displayName": "Ignacio Soteras",
      "photoUrl": "",
      "userId": "02050793736257155229"
     },
     "user_tz": -120
    },
    "id": "8dL6BpbddIES",
    "outputId": "d061c071-31b8-4f58-f586-464f91d1bf91"
   },
   "outputs": [
    {
     "data": {
      "text/plain": [
       "['Make',\n",
       " 'Model',\n",
       " 'Year',\n",
       " 'Engine Displacement',\n",
       " 'Cylinders',\n",
       " 'Transmission',\n",
       " 'Drivetrain',\n",
       " 'Vehicle Class',\n",
       " 'Fuel Type',\n",
       " 'Fuel Barrels/Year',\n",
       " 'City MPG',\n",
       " 'Highway MPG',\n",
       " 'Combined MPG',\n",
       " 'Fuel Cost/Year',\n",
       " 'CO2 Emission Grams/Km']"
      ]
     },
     "execution_count": 140,
     "metadata": {},
     "output_type": "execute_result"
    }
   ],
   "source": [
    "list(cars.columns)"
   ]
  },
  {
   "cell_type": "code",
   "execution_count": 141,
   "metadata": {
    "executionInfo": {
     "elapsed": 224,
     "status": "ok",
     "timestamp": 1623143015864,
     "user": {
      "displayName": "Ignacio Soteras",
      "photoUrl": "",
      "userId": "02050793736257155229"
     },
     "user_tz": -120
    },
    "id": "vfryAjYScGEP"
   },
   "outputs": [],
   "source": [
    "cars['City Km/Liter'] = list( map(lambda x: x * ( 1.60934 / 3.78541 ),cars['City MPG']) )"
   ]
  },
  {
   "cell_type": "code",
   "execution_count": 142,
   "metadata": {
    "executionInfo": {
     "elapsed": 243,
     "status": "ok",
     "timestamp": 1623143030084,
     "user": {
      "displayName": "Ignacio Soteras",
      "photoUrl": "",
      "userId": "02050793736257155229"
     },
     "user_tz": -120
    },
    "id": "oGDQwHizd1P4"
   },
   "outputs": [],
   "source": [
    "cars.drop(columns=\"City MPG\", inplace=True)"
   ]
  },
  {
   "cell_type": "code",
   "execution_count": 143,
   "metadata": {
    "executionInfo": {
     "elapsed": 250,
     "status": "ok",
     "timestamp": 1623143056823,
     "user": {
      "displayName": "Ignacio Soteras",
      "photoUrl": "",
      "userId": "02050793736257155229"
     },
     "user_tz": -120
    },
    "id": "apDqyQRJeAYm"
   },
   "outputs": [],
   "source": [
    "cars['Highway Km/Liter'] = list( map(lambda x: x * ( 1.60934 / 3.78541 ),cars['Highway MPG']) )\n",
    "cars.drop(columns=\"Highway MPG\", inplace=True)"
   ]
  },
  {
   "cell_type": "code",
   "execution_count": 144,
   "metadata": {
    "executionInfo": {
     "elapsed": 244,
     "status": "ok",
     "timestamp": 1623143078633,
     "user": {
      "displayName": "Ignacio Soteras",
      "photoUrl": "",
      "userId": "02050793736257155229"
     },
     "user_tz": -120
    },
    "id": "zXNtbzusePSN"
   },
   "outputs": [],
   "source": [
    "cars['Combined Km/Liter'] = list( map(lambda x: x * ( 1.60934 / 3.78541 ),cars['Combined MPG']) )\n",
    "cars.drop(columns=\"Combined MPG\", inplace=True)"
   ]
  },
  {
   "cell_type": "markdown",
   "metadata": {
    "id": "SRZZJAPQ6Fg6"
   },
   "source": [
    "### Gathering insights:\n",
    "\n",
    "- How many car makers are there? How many models? Which car maker has the most cars in the dataset?\n",
    "\n",
    "- When were these cars made?\n",
    "\n",
    "- How big is the engine of these cars?\n",
    "\n",
    "- What's the frequency of different transmissions, drivetrains and fuel types?\n",
    "\n",
    "- What's the car that consumes the least/most fuel?"
   ]
  },
  {
   "cell_type": "markdown",
   "metadata": {
    "id": "Y9u-pk4yfC8t"
   },
   "source": [
    "How many makes"
   ]
  },
  {
   "cell_type": "code",
   "execution_count": 145,
   "metadata": {
    "colab": {
     "base_uri": "https://localhost:8080/"
    },
    "executionInfo": {
     "elapsed": 346,
     "status": "ok",
     "timestamp": 1623143226628,
     "user": {
      "displayName": "Ignacio Soteras",
      "photoUrl": "",
      "userId": "02050793736257155229"
     },
     "user_tz": -120
    },
    "id": "LS-EOV3f6Fg7",
    "outputId": "7244f51d-279e-4a71-ba35-63d2969f5a74"
   },
   "outputs": [
    {
     "data": {
      "text/plain": [
       "124"
      ]
     },
     "execution_count": 145,
     "metadata": {},
     "output_type": "execute_result"
    }
   ],
   "source": [
    "len(cars['Make'].unique().tolist())"
   ]
  },
  {
   "cell_type": "code",
   "execution_count": 146,
   "metadata": {
    "colab": {
     "base_uri": "https://localhost:8080/"
    },
    "executionInfo": {
     "elapsed": 248,
     "status": "ok",
     "timestamp": 1623143450714,
     "user": {
      "displayName": "Ignacio Soteras",
      "photoUrl": "",
      "userId": "02050793736257155229"
     },
     "user_tz": -120
    },
    "id": "GnehBWKm40Gh",
    "outputId": "7cd27740-2860-4ec5-dea1-f8d53151e610"
   },
   "outputs": [
    {
     "data": {
      "text/plain": [
       "Chevrolet                 3643\n",
       "Ford                      2946\n",
       "Dodge                     2360\n",
       "GMC                       2347\n",
       "Toyota                    1836\n",
       "                          ... \n",
       "Lambda Control Systems       1\n",
       "ASC                          1\n",
       "Goldacre                     1\n",
       "Mahindra                     1\n",
       "London Taxi                  1\n",
       "Name: Make, Length: 124, dtype: int64"
      ]
     },
     "execution_count": 146,
     "metadata": {},
     "output_type": "execute_result"
    }
   ],
   "source": [
    "cars['Make'].value_counts()"
   ]
  },
  {
   "cell_type": "markdown",
   "metadata": {
    "id": "7sOaJJT_fSx2"
   },
   "source": [
    "How many models"
   ]
  },
  {
   "cell_type": "code",
   "execution_count": 147,
   "metadata": {
    "colab": {
     "base_uri": "https://localhost:8080/"
    },
    "executionInfo": {
     "elapsed": 249,
     "status": "ok",
     "timestamp": 1623143296731,
     "user": {
      "displayName": "Ignacio Soteras",
      "photoUrl": "",
      "userId": "02050793736257155229"
     },
     "user_tz": -120
    },
    "id": "w_2EOD5efUOS",
    "outputId": "7b643b35-7639-4033-e882-69996dc301d8"
   },
   "outputs": [
    {
     "data": {
      "text/plain": [
       "3608"
      ]
     },
     "execution_count": 147,
     "metadata": {},
     "output_type": "execute_result"
    }
   ],
   "source": [
    "len(cars['Model'].unique().tolist())"
   ]
  },
  {
   "cell_type": "code",
   "execution_count": 148,
   "metadata": {},
   "outputs": [
    {
     "data": {
      "text/plain": [
       "F150 Pickup 2WD            197\n",
       "F150 Pickup 4WD            179\n",
       "Truck 2WD                  173\n",
       "Mustang                    170\n",
       "Jetta                      169\n",
       "                          ... \n",
       "FX37 AWD                     1\n",
       "AMG S65 Coupe                1\n",
       "Magnus                       1\n",
       "Metris (Cargo Van)           1\n",
       "550 Maranello/Barchetta      1\n",
       "Name: Model, Length: 3608, dtype: int64"
      ]
     },
     "execution_count": 148,
     "metadata": {},
     "output_type": "execute_result"
    }
   ],
   "source": [
    "cars['Model'].value_counts()"
   ]
  },
  {
   "cell_type": "markdown",
   "metadata": {
    "id": "D-7PimTkfn7n"
   },
   "source": [
    "Which car Maker has more cars"
   ]
  },
  {
   "cell_type": "code",
   "execution_count": 149,
   "metadata": {
    "colab": {
     "base_uri": "https://localhost:8080/",
     "height": 35
    },
    "executionInfo": {
     "elapsed": 270,
     "status": "ok",
     "timestamp": 1623143456894,
     "user": {
      "displayName": "Ignacio Soteras",
      "photoUrl": "",
      "userId": "02050793736257155229"
     },
     "user_tz": -120
    },
    "id": "Yy2KCXbSfrN0",
    "outputId": "d4c40950-af00-494c-fa5a-6b8e02d82161"
   },
   "outputs": [
    {
     "data": {
      "text/plain": [
       "'Chevrolet'"
      ]
     },
     "execution_count": 149,
     "metadata": {},
     "output_type": "execute_result"
    }
   ],
   "source": [
    "make = cars['Make'].value_counts().index[0]\n",
    "make"
   ]
  },
  {
   "cell_type": "markdown",
   "metadata": {},
   "source": [
    "group by the data by the Make  using count function"
   ]
  },
  {
   "cell_type": "code",
   "execution_count": 150,
   "metadata": {
    "colab": {
     "base_uri": "https://localhost:8080/",
     "height": 544
    },
    "executionInfo": {
     "elapsed": 233,
     "status": "ok",
     "timestamp": 1623143566155,
     "user": {
      "displayName": "Ignacio Soteras",
      "photoUrl": "",
      "userId": "02050793736257155229"
     },
     "user_tz": -120
    },
    "id": "OTxZXCj_48hR",
    "outputId": "b1d1078e-ab91-475e-e94b-b28619722607"
   },
   "outputs": [
    {
     "data": {
      "text/plain": [
       "Make                     35952\n",
       "Model                    35952\n",
       "Year                     35952\n",
       "Engine Displacement      35952\n",
       "Cylinders                35952\n",
       "Transmission             35952\n",
       "Drivetrain               35952\n",
       "Vehicle Class            35952\n",
       "Fuel Type                35952\n",
       "Fuel Barrels/Year        35952\n",
       "Fuel Cost/Year           35952\n",
       "CO2 Emission Grams/Km    35952\n",
       "City Km/Liter            35952\n",
       "Highway Km/Liter         35952\n",
       "Combined Km/Liter        35952\n",
       "dtype: int64"
      ]
     },
     "execution_count": 150,
     "metadata": {},
     "output_type": "execute_result"
    }
   ],
   "source": [
    "cars.count()"
   ]
  },
  {
   "cell_type": "code",
   "execution_count": 151,
   "metadata": {
    "colab": {
     "base_uri": "https://localhost:8080/"
    },
    "executionInfo": {
     "elapsed": 259,
     "status": "ok",
     "timestamp": 1623143579066,
     "user": {
      "displayName": "Ignacio Soteras",
      "photoUrl": "",
      "userId": "02050793736257155229"
     },
     "user_tz": -120
    },
    "id": "lO-oQ8op5Tys",
    "outputId": "b38c5163-fcf1-4910-c612-28c241e820b6"
   },
   "outputs": [
    {
     "data": {
      "text/plain": [
       "count     124.000000\n",
       "mean      289.935484\n",
       "std       593.639001\n",
       "min         1.000000\n",
       "25%         2.000000\n",
       "50%        15.000000\n",
       "75%       343.500000\n",
       "max      3643.000000\n",
       "Name: Model, dtype: float64"
      ]
     },
     "execution_count": 151,
     "metadata": {},
     "output_type": "execute_result"
    }
   ],
   "source": [
    "cars.groupby('Make')['Model'].count().describe()"
   ]
  },
  {
   "cell_type": "code",
   "execution_count": 152,
   "metadata": {
    "colab": {
     "base_uri": "https://localhost:8080/"
    },
    "executionInfo": {
     "elapsed": 243,
     "status": "ok",
     "timestamp": 1623143610889,
     "user": {
      "displayName": "Ignacio Soteras",
      "photoUrl": "",
      "userId": "02050793736257155229"
     },
     "user_tz": -120
    },
    "id": "4TZ80H--5cYb",
    "outputId": "01e2a13e-c03c-4c01-8459-8f3d9e296c77"
   },
   "outputs": [
    {
     "data": {
      "text/plain": [
       "Make\n",
       "AMG                               4\n",
       "ASC                               1\n",
       "Acura                           302\n",
       "Alfa Romeo                       41\n",
       "American Motors Corporation      22\n",
       "                               ... \n",
       "Volkswagen                     1047\n",
       "Volvo                           717\n",
       "Wallace Environmental            32\n",
       "Yugo                              8\n",
       "smart                            20\n",
       "Name: Model, Length: 124, dtype: int64"
      ]
     },
     "execution_count": 152,
     "metadata": {},
     "output_type": "execute_result"
    }
   ],
   "source": [
    "cars.groupby('Make').count()['Model']"
   ]
  },
  {
   "cell_type": "markdown",
   "metadata": {
    "id": "YSoLppSvh42c"
   },
   "source": [
    "When the cars of the Make which has more cars were made?"
   ]
  },
  {
   "cell_type": "code",
   "execution_count": 153,
   "metadata": {
    "colab": {
     "base_uri": "https://localhost:8080/",
     "height": 407
    },
    "executionInfo": {
     "elapsed": 234,
     "status": "ok",
     "timestamp": 1623143641871,
     "user": {
      "displayName": "Ignacio Soteras",
      "photoUrl": "",
      "userId": "02050793736257155229"
     },
     "user_tz": -120
    },
    "id": "yOdob05FiGT8",
    "outputId": "b0da9681-a845-45f2-ae2e-da5cae0af4fc"
   },
   "outputs": [
    {
     "data": {
      "text/html": [
       "<div>\n",
       "<style scoped>\n",
       "    .dataframe tbody tr th:only-of-type {\n",
       "        vertical-align: middle;\n",
       "    }\n",
       "\n",
       "    .dataframe tbody tr th {\n",
       "        vertical-align: top;\n",
       "    }\n",
       "\n",
       "    .dataframe thead th {\n",
       "        text-align: right;\n",
       "    }\n",
       "</style>\n",
       "<table border=\"1\" class=\"dataframe\">\n",
       "  <thead>\n",
       "    <tr style=\"text-align: right;\">\n",
       "      <th></th>\n",
       "      <th>Make</th>\n",
       "      <th>Model</th>\n",
       "      <th>Year</th>\n",
       "      <th>Engine Displacement</th>\n",
       "    </tr>\n",
       "  </thead>\n",
       "  <tbody>\n",
       "    <tr>\n",
       "      <th>4275</th>\n",
       "      <td>Chevrolet</td>\n",
       "      <td>Astro 2WD (cargo)</td>\n",
       "      <td>1985</td>\n",
       "      <td>2.5</td>\n",
       "    </tr>\n",
       "    <tr>\n",
       "      <th>4276</th>\n",
       "      <td>Chevrolet</td>\n",
       "      <td>Astro 2WD (cargo)</td>\n",
       "      <td>1985</td>\n",
       "      <td>4.3</td>\n",
       "    </tr>\n",
       "    <tr>\n",
       "      <th>4277</th>\n",
       "      <td>Chevrolet</td>\n",
       "      <td>Astro 2WD (cargo)</td>\n",
       "      <td>1985</td>\n",
       "      <td>4.3</td>\n",
       "    </tr>\n",
       "    <tr>\n",
       "      <th>4278</th>\n",
       "      <td>Chevrolet</td>\n",
       "      <td>Astro 2WD (cargo)</td>\n",
       "      <td>1985</td>\n",
       "      <td>4.3</td>\n",
       "    </tr>\n",
       "    <tr>\n",
       "      <th>4279</th>\n",
       "      <td>Chevrolet</td>\n",
       "      <td>Astro 2WD (cargo)</td>\n",
       "      <td>1985</td>\n",
       "      <td>2.5</td>\n",
       "    </tr>\n",
       "    <tr>\n",
       "      <th>...</th>\n",
       "      <td>...</td>\n",
       "      <td>...</td>\n",
       "      <td>...</td>\n",
       "      <td>...</td>\n",
       "    </tr>\n",
       "    <tr>\n",
       "      <th>7913</th>\n",
       "      <td>Chevrolet</td>\n",
       "      <td>Volt</td>\n",
       "      <td>2013</td>\n",
       "      <td>1.4</td>\n",
       "    </tr>\n",
       "    <tr>\n",
       "      <th>7914</th>\n",
       "      <td>Chevrolet</td>\n",
       "      <td>Volt</td>\n",
       "      <td>2014</td>\n",
       "      <td>1.4</td>\n",
       "    </tr>\n",
       "    <tr>\n",
       "      <th>7915</th>\n",
       "      <td>Chevrolet</td>\n",
       "      <td>Volt</td>\n",
       "      <td>2015</td>\n",
       "      <td>1.4</td>\n",
       "    </tr>\n",
       "    <tr>\n",
       "      <th>7916</th>\n",
       "      <td>Chevrolet</td>\n",
       "      <td>Volt</td>\n",
       "      <td>2016</td>\n",
       "      <td>1.5</td>\n",
       "    </tr>\n",
       "    <tr>\n",
       "      <th>7917</th>\n",
       "      <td>Chevrolet</td>\n",
       "      <td>Volt</td>\n",
       "      <td>2017</td>\n",
       "      <td>1.5</td>\n",
       "    </tr>\n",
       "  </tbody>\n",
       "</table>\n",
       "<p>3643 rows × 4 columns</p>\n",
       "</div>"
      ],
      "text/plain": [
       "           Make              Model  Year  Engine Displacement\n",
       "4275  Chevrolet  Astro 2WD (cargo)  1985                  2.5\n",
       "4276  Chevrolet  Astro 2WD (cargo)  1985                  4.3\n",
       "4277  Chevrolet  Astro 2WD (cargo)  1985                  4.3\n",
       "4278  Chevrolet  Astro 2WD (cargo)  1985                  4.3\n",
       "4279  Chevrolet  Astro 2WD (cargo)  1985                  2.5\n",
       "...         ...                ...   ...                  ...\n",
       "7913  Chevrolet               Volt  2013                  1.4\n",
       "7914  Chevrolet               Volt  2014                  1.4\n",
       "7915  Chevrolet               Volt  2015                  1.4\n",
       "7916  Chevrolet               Volt  2016                  1.5\n",
       "7917  Chevrolet               Volt  2017                  1.5\n",
       "\n",
       "[3643 rows x 4 columns]"
      ]
     },
     "execution_count": 153,
     "metadata": {},
     "output_type": "execute_result"
    }
   ],
   "source": [
    "cars[ cars['Make'] == \"Chevrolet\" ][['Make','Model','Year','Engine Displacement']] "
   ]
  },
  {
   "cell_type": "code",
   "execution_count": 154,
   "metadata": {
    "colab": {
     "base_uri": "https://localhost:8080/"
    },
    "executionInfo": {
     "elapsed": 6,
     "status": "ok",
     "timestamp": 1623143680790,
     "user": {
      "displayName": "Ignacio Soteras",
      "photoUrl": "",
      "userId": "02050793736257155229"
     },
     "user_tz": -120
    },
    "id": "kbDEtayrj9j-",
    "outputId": "8409e5ea-1bc2-4f40-f719-199ad8ebbfae"
   },
   "outputs": [
    {
     "data": {
      "text/plain": [
       "Automatic    24290\n",
       "Manual       11662\n",
       "Name: Transmission, dtype: int64"
      ]
     },
     "execution_count": 154,
     "metadata": {},
     "output_type": "execute_result"
    }
   ],
   "source": [
    "cars['Transmission'].value_counts()"
   ]
  },
  {
   "cell_type": "code",
   "execution_count": 155,
   "metadata": {
    "colab": {
     "base_uri": "https://localhost:8080/"
    },
    "executionInfo": {
     "elapsed": 232,
     "status": "ok",
     "timestamp": 1623143707613,
     "user": {
      "displayName": "Ignacio Soteras",
      "photoUrl": "",
      "userId": "02050793736257155229"
     },
     "user_tz": -120
    },
    "id": "4lKFGvrlkaUw",
    "outputId": "755ceed4-1a74-469f-d348-31223aaeea17"
   },
   "outputs": [
    {
     "data": {
      "text/plain": [
       "Index(['Make', 'Model', 'Year', 'Engine Displacement', 'Cylinders',\n",
       "       'Transmission', 'Drivetrain', 'Vehicle Class', 'Fuel Type',\n",
       "       'Fuel Barrels/Year', 'Fuel Cost/Year', 'CO2 Emission Grams/Km',\n",
       "       'City Km/Liter', 'Highway Km/Liter', 'Combined Km/Liter'],\n",
       "      dtype='object')"
      ]
     },
     "execution_count": 155,
     "metadata": {},
     "output_type": "execute_result"
    }
   ],
   "source": [
    "cars.columns"
   ]
  },
  {
   "cell_type": "code",
   "execution_count": 156,
   "metadata": {
    "colab": {
     "base_uri": "https://localhost:8080/"
    },
    "executionInfo": {
     "elapsed": 260,
     "status": "ok",
     "timestamp": 1623143714214,
     "user": {
      "displayName": "Ignacio Soteras",
      "photoUrl": "",
      "userId": "02050793736257155229"
     },
     "user_tz": -120
    },
    "id": "HCIJ8Z0MkY0C",
    "outputId": "ff38d90f-5c81-4138-db20-8c8e34e15264"
   },
   "outputs": [
    {
     "data": {
      "text/plain": [
       "Front-Wheel Drive             13044\n",
       "Rear-Wheel Drive              12726\n",
       "4-Wheel or All-Wheel Drive     6503\n",
       "All-Wheel Drive                2039\n",
       "4-Wheel Drive                  1058\n",
       "2-Wheel Drive                   423\n",
       "Part-time 4-Wheel Drive         158\n",
       "2-Wheel Drive, Front              1\n",
       "Name: Drivetrain, dtype: int64"
      ]
     },
     "execution_count": 156,
     "metadata": {},
     "output_type": "execute_result"
    }
   ],
   "source": [
    "cars['Drivetrain'].value_counts()"
   ]
  },
  {
   "cell_type": "code",
   "execution_count": 157,
   "metadata": {
    "colab": {
     "base_uri": "https://localhost:8080/"
    },
    "executionInfo": {
     "elapsed": 242,
     "status": "ok",
     "timestamp": 1623143785610,
     "user": {
      "displayName": "Ignacio Soteras",
      "photoUrl": "",
      "userId": "02050793736257155229"
     },
     "user_tz": -120
    },
    "id": "PrtnHDuMki00",
    "outputId": "857c8a68-5598-4206-c964-03f868e31741"
   },
   "outputs": [
    {
     "data": {
      "text/plain": [
       "Regular                        23587\n",
       "Premium                         9921\n",
       "Gasoline or E85                 1195\n",
       "Diesel                           911\n",
       "Premium or E85                   121\n",
       "Midgrade                          74\n",
       "CNG                               60\n",
       "Gasoline or natural gas           20\n",
       "Premium and Electricity           20\n",
       "Premium Gas or Electricity        17\n",
       "Regular Gas and Electricity       16\n",
       "Gasoline or propane                8\n",
       "Regular Gas or Electricity         2\n",
       "Name: Fuel Type, dtype: int64"
      ]
     },
     "execution_count": 157,
     "metadata": {},
     "output_type": "execute_result"
    }
   ],
   "source": [
    "cars['Fuel Type'].value_counts()"
   ]
  },
  {
   "cell_type": "markdown",
   "metadata": {
    "id": "KX3spKZukvE_"
   },
   "source": [
    "Cars which consumes more(max) or less(min) at year.\n",
    "\n",
    "Fuel Barrels/Year"
   ]
  },
  {
   "cell_type": "code",
   "execution_count": 158,
   "metadata": {
    "colab": {
     "base_uri": "https://localhost:8080/"
    },
    "executionInfo": {
     "elapsed": 252,
     "status": "ok",
     "timestamp": 1623143818685,
     "user": {
      "displayName": "Ignacio Soteras",
      "photoUrl": "",
      "userId": "02050793736257155229"
     },
     "user_tz": -120
    },
    "id": "8LXh_ctTkyzf",
    "outputId": "ba5ae925-583a-4c80-c1be-e466077a7a5c"
   },
   "outputs": [
    {
     "data": {
      "text/plain": [
       "47.08714285714285"
      ]
     },
     "execution_count": 158,
     "metadata": {},
     "output_type": "execute_result"
    }
   ],
   "source": [
    "cars['Fuel Barrels/Year'].max()"
   ]
  },
  {
   "cell_type": "code",
   "execution_count": 159,
   "metadata": {
    "colab": {
     "base_uri": "https://localhost:8080/",
     "height": 339
    },
    "executionInfo": {
     "elapsed": 233,
     "status": "ok",
     "timestamp": 1623143953617,
     "user": {
      "displayName": "Ignacio Soteras",
      "photoUrl": "",
      "userId": "02050793736257155229"
     },
     "user_tz": -120
    },
    "id": "txz6BEdHk-u9",
    "outputId": "3dda7aa0-3ddb-4874-f3a8-5ec747975969"
   },
   "outputs": [
    {
     "data": {
      "text/html": [
       "<div>\n",
       "<style scoped>\n",
       "    .dataframe tbody tr th:only-of-type {\n",
       "        vertical-align: middle;\n",
       "    }\n",
       "\n",
       "    .dataframe tbody tr th {\n",
       "        vertical-align: top;\n",
       "    }\n",
       "\n",
       "    .dataframe thead th {\n",
       "        text-align: right;\n",
       "    }\n",
       "</style>\n",
       "<table border=\"1\" class=\"dataframe\">\n",
       "  <thead>\n",
       "    <tr style=\"text-align: right;\">\n",
       "      <th></th>\n",
       "      <th>Make</th>\n",
       "      <th>Model</th>\n",
       "      <th>Year</th>\n",
       "      <th>Engine Displacement</th>\n",
       "      <th>Cylinders</th>\n",
       "      <th>Transmission</th>\n",
       "      <th>Drivetrain</th>\n",
       "      <th>Vehicle Class</th>\n",
       "      <th>Fuel Type</th>\n",
       "      <th>Fuel Barrels/Year</th>\n",
       "      <th>Fuel Cost/Year</th>\n",
       "      <th>CO2 Emission Grams/Km</th>\n",
       "      <th>City Km/Liter</th>\n",
       "      <th>Highway Km/Liter</th>\n",
       "      <th>Combined Km/Liter</th>\n",
       "    </tr>\n",
       "  </thead>\n",
       "  <tbody>\n",
       "    <tr>\n",
       "      <th>20894</th>\n",
       "      <td>Lamborghini</td>\n",
       "      <td>Countach</td>\n",
       "      <td>1986</td>\n",
       "      <td>5.2</td>\n",
       "      <td>12.0</td>\n",
       "      <td>Manual</td>\n",
       "      <td>Rear-Wheel Drive</td>\n",
       "      <td>Two Seaters</td>\n",
       "      <td>Premium</td>\n",
       "      <td>47.087143</td>\n",
       "      <td>5800</td>\n",
       "      <td>788.877073</td>\n",
       "      <td>2.550857</td>\n",
       "      <td>4.251429</td>\n",
       "      <td>2.976</td>\n",
       "    </tr>\n",
       "    <tr>\n",
       "      <th>20895</th>\n",
       "      <td>Lamborghini</td>\n",
       "      <td>Countach</td>\n",
       "      <td>1987</td>\n",
       "      <td>5.2</td>\n",
       "      <td>12.0</td>\n",
       "      <td>Manual</td>\n",
       "      <td>Rear-Wheel Drive</td>\n",
       "      <td>Two Seaters</td>\n",
       "      <td>Premium</td>\n",
       "      <td>47.087143</td>\n",
       "      <td>5800</td>\n",
       "      <td>788.877073</td>\n",
       "      <td>2.550857</td>\n",
       "      <td>4.251429</td>\n",
       "      <td>2.976</td>\n",
       "    </tr>\n",
       "    <tr>\n",
       "      <th>20896</th>\n",
       "      <td>Lamborghini</td>\n",
       "      <td>Countach</td>\n",
       "      <td>1988</td>\n",
       "      <td>5.2</td>\n",
       "      <td>12.0</td>\n",
       "      <td>Manual</td>\n",
       "      <td>Rear-Wheel Drive</td>\n",
       "      <td>Two Seaters</td>\n",
       "      <td>Premium</td>\n",
       "      <td>47.087143</td>\n",
       "      <td>5800</td>\n",
       "      <td>788.877073</td>\n",
       "      <td>2.550857</td>\n",
       "      <td>4.251429</td>\n",
       "      <td>2.976</td>\n",
       "    </tr>\n",
       "    <tr>\n",
       "      <th>20897</th>\n",
       "      <td>Lamborghini</td>\n",
       "      <td>Countach</td>\n",
       "      <td>1989</td>\n",
       "      <td>5.2</td>\n",
       "      <td>12.0</td>\n",
       "      <td>Manual</td>\n",
       "      <td>Rear-Wheel Drive</td>\n",
       "      <td>Two Seaters</td>\n",
       "      <td>Premium</td>\n",
       "      <td>47.087143</td>\n",
       "      <td>5800</td>\n",
       "      <td>788.877073</td>\n",
       "      <td>2.550857</td>\n",
       "      <td>4.251429</td>\n",
       "      <td>2.976</td>\n",
       "    </tr>\n",
       "    <tr>\n",
       "      <th>20898</th>\n",
       "      <td>Lamborghini</td>\n",
       "      <td>Countach</td>\n",
       "      <td>1990</td>\n",
       "      <td>5.2</td>\n",
       "      <td>12.0</td>\n",
       "      <td>Manual</td>\n",
       "      <td>Rear-Wheel Drive</td>\n",
       "      <td>Two Seaters</td>\n",
       "      <td>Premium</td>\n",
       "      <td>47.087143</td>\n",
       "      <td>5800</td>\n",
       "      <td>788.877073</td>\n",
       "      <td>2.550857</td>\n",
       "      <td>4.251429</td>\n",
       "      <td>2.976</td>\n",
       "    </tr>\n",
       "  </tbody>\n",
       "</table>\n",
       "</div>"
      ],
      "text/plain": [
       "              Make     Model  Year  Engine Displacement  Cylinders  \\\n",
       "20894  Lamborghini  Countach  1986                  5.2       12.0   \n",
       "20895  Lamborghini  Countach  1987                  5.2       12.0   \n",
       "20896  Lamborghini  Countach  1988                  5.2       12.0   \n",
       "20897  Lamborghini  Countach  1989                  5.2       12.0   \n",
       "20898  Lamborghini  Countach  1990                  5.2       12.0   \n",
       "\n",
       "      Transmission        Drivetrain Vehicle Class Fuel Type  \\\n",
       "20894       Manual  Rear-Wheel Drive   Two Seaters   Premium   \n",
       "20895       Manual  Rear-Wheel Drive   Two Seaters   Premium   \n",
       "20896       Manual  Rear-Wheel Drive   Two Seaters   Premium   \n",
       "20897       Manual  Rear-Wheel Drive   Two Seaters   Premium   \n",
       "20898       Manual  Rear-Wheel Drive   Two Seaters   Premium   \n",
       "\n",
       "       Fuel Barrels/Year  Fuel Cost/Year  CO2 Emission Grams/Km  \\\n",
       "20894          47.087143            5800             788.877073   \n",
       "20895          47.087143            5800             788.877073   \n",
       "20896          47.087143            5800             788.877073   \n",
       "20897          47.087143            5800             788.877073   \n",
       "20898          47.087143            5800             788.877073   \n",
       "\n",
       "       City Km/Liter  Highway Km/Liter  Combined Km/Liter  \n",
       "20894       2.550857          4.251429              2.976  \n",
       "20895       2.550857          4.251429              2.976  \n",
       "20896       2.550857          4.251429              2.976  \n",
       "20897       2.550857          4.251429              2.976  \n",
       "20898       2.550857          4.251429              2.976  "
      ]
     },
     "execution_count": 159,
     "metadata": {},
     "output_type": "execute_result"
    }
   ],
   "source": [
    "cars[ cars['Fuel Barrels/Year'] == cars['Fuel Barrels/Year'].max()]"
   ]
  },
  {
   "cell_type": "code",
   "execution_count": 160,
   "metadata": {
    "colab": {
     "base_uri": "https://localhost:8080/",
     "height": 361
    },
    "executionInfo": {
     "elapsed": 233,
     "status": "ok",
     "timestamp": 1623144006240,
     "user": {
      "displayName": "Ignacio Soteras",
      "photoUrl": "",
      "userId": "02050793736257155229"
     },
     "user_tz": -120
    },
    "id": "UT2hdOgZlK8V",
    "outputId": "05c8c1e6-6760-441a-d709-79ffda2218c1"
   },
   "outputs": [
    {
     "data": {
      "text/html": [
       "<div>\n",
       "<style scoped>\n",
       "    .dataframe tbody tr th:only-of-type {\n",
       "        vertical-align: middle;\n",
       "    }\n",
       "\n",
       "    .dataframe tbody tr th {\n",
       "        vertical-align: top;\n",
       "    }\n",
       "\n",
       "    .dataframe thead th {\n",
       "        text-align: right;\n",
       "    }\n",
       "</style>\n",
       "<table border=\"1\" class=\"dataframe\">\n",
       "  <thead>\n",
       "    <tr style=\"text-align: right;\">\n",
       "      <th></th>\n",
       "      <th>Make</th>\n",
       "      <th>Model</th>\n",
       "      <th>Year</th>\n",
       "      <th>Engine Displacement</th>\n",
       "      <th>Cylinders</th>\n",
       "      <th>Transmission</th>\n",
       "      <th>Drivetrain</th>\n",
       "      <th>Vehicle Class</th>\n",
       "      <th>Fuel Type</th>\n",
       "      <th>Fuel Barrels/Year</th>\n",
       "      <th>Fuel Cost/Year</th>\n",
       "      <th>CO2 Emission Grams/Km</th>\n",
       "      <th>City Km/Liter</th>\n",
       "      <th>Highway Km/Liter</th>\n",
       "      <th>Combined Km/Liter</th>\n",
       "    </tr>\n",
       "  </thead>\n",
       "  <tbody>\n",
       "    <tr>\n",
       "      <th>17395</th>\n",
       "      <td>Honda</td>\n",
       "      <td>Civic Natural Gas</td>\n",
       "      <td>2012</td>\n",
       "      <td>1.8</td>\n",
       "      <td>4.0</td>\n",
       "      <td>Automatic</td>\n",
       "      <td>Front-Wheel Drive</td>\n",
       "      <td>Compact Cars</td>\n",
       "      <td>CNG</td>\n",
       "      <td>0.06</td>\n",
       "      <td>1000</td>\n",
       "      <td>142.104437</td>\n",
       "      <td>11.478857</td>\n",
       "      <td>16.155428</td>\n",
       "      <td>13.179428</td>\n",
       "    </tr>\n",
       "    <tr>\n",
       "      <th>17396</th>\n",
       "      <td>Honda</td>\n",
       "      <td>Civic Natural Gas</td>\n",
       "      <td>2013</td>\n",
       "      <td>1.8</td>\n",
       "      <td>4.0</td>\n",
       "      <td>Automatic</td>\n",
       "      <td>Front-Wheel Drive</td>\n",
       "      <td>Compact Cars</td>\n",
       "      <td>CNG</td>\n",
       "      <td>0.06</td>\n",
       "      <td>1000</td>\n",
       "      <td>135.459257</td>\n",
       "      <td>11.478857</td>\n",
       "      <td>16.155428</td>\n",
       "      <td>13.179428</td>\n",
       "    </tr>\n",
       "    <tr>\n",
       "      <th>17397</th>\n",
       "      <td>Honda</td>\n",
       "      <td>Civic Natural Gas</td>\n",
       "      <td>2014</td>\n",
       "      <td>1.8</td>\n",
       "      <td>4.0</td>\n",
       "      <td>Automatic</td>\n",
       "      <td>Front-Wheel Drive</td>\n",
       "      <td>Compact Cars</td>\n",
       "      <td>CNG</td>\n",
       "      <td>0.06</td>\n",
       "      <td>1000</td>\n",
       "      <td>135.459257</td>\n",
       "      <td>11.478857</td>\n",
       "      <td>16.155428</td>\n",
       "      <td>13.179428</td>\n",
       "    </tr>\n",
       "    <tr>\n",
       "      <th>17398</th>\n",
       "      <td>Honda</td>\n",
       "      <td>Civic Natural Gas</td>\n",
       "      <td>2015</td>\n",
       "      <td>1.8</td>\n",
       "      <td>4.0</td>\n",
       "      <td>Automatic</td>\n",
       "      <td>Front-Wheel Drive</td>\n",
       "      <td>Compact Cars</td>\n",
       "      <td>CNG</td>\n",
       "      <td>0.06</td>\n",
       "      <td>1000</td>\n",
       "      <td>135.459257</td>\n",
       "      <td>11.478857</td>\n",
       "      <td>16.155428</td>\n",
       "      <td>13.179428</td>\n",
       "    </tr>\n",
       "  </tbody>\n",
       "</table>\n",
       "</div>"
      ],
      "text/plain": [
       "        Make              Model  Year  Engine Displacement  Cylinders  \\\n",
       "17395  Honda  Civic Natural Gas  2012                  1.8        4.0   \n",
       "17396  Honda  Civic Natural Gas  2013                  1.8        4.0   \n",
       "17397  Honda  Civic Natural Gas  2014                  1.8        4.0   \n",
       "17398  Honda  Civic Natural Gas  2015                  1.8        4.0   \n",
       "\n",
       "      Transmission         Drivetrain Vehicle Class Fuel Type  \\\n",
       "17395    Automatic  Front-Wheel Drive  Compact Cars       CNG   \n",
       "17396    Automatic  Front-Wheel Drive  Compact Cars       CNG   \n",
       "17397    Automatic  Front-Wheel Drive  Compact Cars       CNG   \n",
       "17398    Automatic  Front-Wheel Drive  Compact Cars       CNG   \n",
       "\n",
       "       Fuel Barrels/Year  Fuel Cost/Year  CO2 Emission Grams/Km  \\\n",
       "17395               0.06            1000             142.104437   \n",
       "17396               0.06            1000             135.459257   \n",
       "17397               0.06            1000             135.459257   \n",
       "17398               0.06            1000             135.459257   \n",
       "\n",
       "       City Km/Liter  Highway Km/Liter  Combined Km/Liter  \n",
       "17395      11.478857         16.155428          13.179428  \n",
       "17396      11.478857         16.155428          13.179428  \n",
       "17397      11.478857         16.155428          13.179428  \n",
       "17398      11.478857         16.155428          13.179428  "
      ]
     },
     "execution_count": 160,
     "metadata": {},
     "output_type": "execute_result"
    }
   ],
   "source": [
    "cars[ cars['Fuel Barrels/Year'] == cars['Fuel Barrels/Year'].min()]"
   ]
  },
  {
   "cell_type": "markdown",
   "metadata": {
    "id": "fHg1Ow526Fg7"
   },
   "source": [
    "Drop the column \"Combined MPG\""
   ]
  },
  {
   "cell_type": "code",
   "execution_count": 161,
   "metadata": {
    "executionInfo": {
     "elapsed": 245,
     "status": "ok",
     "timestamp": 1623144062896,
     "user": {
      "displayName": "Ignacio Soteras",
      "photoUrl": "",
      "userId": "02050793736257155229"
     },
     "user_tz": -120
    },
    "id": "w5seFxro6Fg7"
   },
   "outputs": [],
   "source": [
    "cars.drop(columns=\"Combined Km/Liter\",inplace=True)"
   ]
  },
  {
   "cell_type": "code",
   "execution_count": 162,
   "metadata": {
    "colab": {
     "base_uri": "https://localhost:8080/"
    },
    "executionInfo": {
     "elapsed": 530,
     "status": "ok",
     "timestamp": 1617099333226,
     "user": {
      "displayName": "Ignacio Soteras",
      "photoUrl": "",
      "userId": "02050793736257155229"
     },
     "user_tz": -120
    },
    "id": "t25Gt5AGoQQG",
    "outputId": "e452266f-73e9-4c2e-8f67-8b44c910fc68"
   },
   "outputs": [
    {
     "data": {
      "text/plain": [
       "Index(['Make', 'Model', 'Year', 'Engine Displacement', 'Cylinders',\n",
       "       'Transmission', 'Drivetrain', 'Vehicle Class', 'Fuel Type',\n",
       "       'Fuel Barrels/Year', 'Fuel Cost/Year', 'CO2 Emission Grams/Km',\n",
       "       'City Km/Liter', 'Highway Km/Liter'],\n",
       "      dtype='object')"
      ]
     },
     "execution_count": 162,
     "metadata": {},
     "output_type": "execute_result"
    }
   ],
   "source": [
    "cars.columns"
   ]
  },
  {
   "cell_type": "code",
   "execution_count": 163,
   "metadata": {
    "executionInfo": {
     "elapsed": 216,
     "status": "ok",
     "timestamp": 1623144438756,
     "user": {
      "displayName": "Ignacio Soteras",
      "photoUrl": "",
      "userId": "02050793736257155229"
     },
     "user_tz": -120
    },
    "id": "oNDmncCN6Fg7"
   },
   "outputs": [],
   "source": [
    "# Change column names to these ones:\n",
    "col_names = [\"Brand\", \"Model\", \"Year\", \"Engine_cc\", \"Cyl\", \"Trans\", \"Drivetrain\", \"Class\", \"Fuel_type\", \"Barrels_per_year\", \"City_MPG\", \"Highway_MPG\", \"CO2_grams_per_km\", \"Fuel_cost_per_year\"]"
   ]
  },
  {
   "cell_type": "code",
   "execution_count": 164,
   "metadata": {
    "executionInfo": {
     "elapsed": 218,
     "status": "ok",
     "timestamp": 1623144572565,
     "user": {
      "displayName": "Ignacio Soteras",
      "photoUrl": "",
      "userId": "02050793736257155229"
     },
     "user_tz": -120
    },
    "id": "IpQSdkBv7mdL"
   },
   "outputs": [],
   "source": [
    "col_names = [ item.replace(\" \",\"_\") for item in cars.columns ]\n",
    "cars.columns = col_names"
   ]
  },
  {
   "cell_type": "code",
   "execution_count": 165,
   "metadata": {
    "executionInfo": {
     "elapsed": 247,
     "status": "ok",
     "timestamp": 1623144550481,
     "user": {
      "displayName": "Ignacio Soteras",
      "photoUrl": "",
      "userId": "02050793736257155229"
     },
     "user_tz": -120
    },
    "id": "ge8TXeDb6Fg7"
   },
   "outputs": [],
   "source": [
    "conversion = {\"Make\": \"Brand\", \"Model\":\"Model\",\"Year\": \"Year\", \"Engine Displacement\": \"Engine_cc\", \n",
    " \"Cylinders\":\"Cyl\", \"Transmission\":\"Trans\", \"Drivetrain\": \"Drivetrain\", \"Vehicle Class\":\"Class\",\n",
    " \"Fuel Type\":\"Fuel_Type\", \"Fuel Barrels/Year\": \"Barrels_per_year\"}"
   ]
  },
  {
   "cell_type": "code",
   "execution_count": 166,
   "metadata": {
    "executionInfo": {
     "elapsed": 3,
     "status": "ok",
     "timestamp": 1623144551553,
     "user": {
      "displayName": "Ignacio Soteras",
      "photoUrl": "",
      "userId": "02050793736257155229"
     },
     "user_tz": -120
    },
    "id": "k32MBpxvpj1C"
   },
   "outputs": [],
   "source": [
    "cars.rename(columns=conversion, inplace = True)"
   ]
  },
  {
   "cell_type": "code",
   "execution_count": 167,
   "metadata": {
    "colab": {
     "base_uri": "https://localhost:8080/"
    },
    "executionInfo": {
     "elapsed": 228,
     "status": "ok",
     "timestamp": 1623144574631,
     "user": {
      "displayName": "Ignacio Soteras",
      "photoUrl": "",
      "userId": "02050793736257155229"
     },
     "user_tz": -120
    },
    "id": "bYcBvU0jqEQm",
    "outputId": "e82e6f47-ddde-4ed6-911a-e2a563efca96"
   },
   "outputs": [
    {
     "data": {
      "text/plain": [
       "Index(['Brand', 'Model', 'Year', 'Engine_Displacement', 'Cyl', 'Trans',\n",
       "       'Drivetrain', 'Vehicle_Class', 'Fuel_Type', 'Fuel_Barrels/Year',\n",
       "       'Fuel_Cost/Year', 'CO2_Emission_Grams/Km', 'City_Km/Liter',\n",
       "       'Highway_Km/Liter'],\n",
       "      dtype='object')"
      ]
     },
     "execution_count": 167,
     "metadata": {},
     "output_type": "execute_result"
    }
   ],
   "source": [
    "cars.columns"
   ]
  },
  {
   "cell_type": "markdown",
   "metadata": {
    "id": "lJMDlBOM6Fg7"
   },
   "source": [
    "What brand has the most cars?"
   ]
  },
  {
   "cell_type": "code",
   "execution_count": 168,
   "metadata": {
    "id": "cbk5R7HL6Fg8"
   },
   "outputs": [
    {
     "data": {
      "text/plain": [
       "'Chevrolet'"
      ]
     },
     "execution_count": 168,
     "metadata": {},
     "output_type": "execute_result"
    }
   ],
   "source": [
    "cars\\\n",
    ".groupby(\"Brand\")\\\n",
    ".count()\\\n",
    ".sort_values(\"Model\", ascending=False)\\\n",
    ".reset_index()\\\n",
    ".iloc[0,0]"
   ]
  },
  {
   "cell_type": "code",
   "execution_count": 179,
   "metadata": {
    "id": "cbk5R7HL6Fg8"
   },
   "outputs": [
    {
     "data": {
      "text/html": [
       "<div>\n",
       "<style scoped>\n",
       "    .dataframe tbody tr th:only-of-type {\n",
       "        vertical-align: middle;\n",
       "    }\n",
       "\n",
       "    .dataframe tbody tr th {\n",
       "        vertical-align: top;\n",
       "    }\n",
       "\n",
       "    .dataframe thead th {\n",
       "        text-align: right;\n",
       "    }\n",
       "</style>\n",
       "<table border=\"1\" class=\"dataframe\">\n",
       "  <thead>\n",
       "    <tr style=\"text-align: right;\">\n",
       "      <th></th>\n",
       "      <th>Brand</th>\n",
       "      <th>Model</th>\n",
       "      <th>Year</th>\n",
       "      <th>Engine_Displacement</th>\n",
       "      <th>Cyl</th>\n",
       "      <th>Trans</th>\n",
       "      <th>Drivetrain</th>\n",
       "      <th>Vehicle_Class</th>\n",
       "      <th>Fuel_Type</th>\n",
       "      <th>Fuel_Barrels/Year</th>\n",
       "      <th>Fuel_Cost/Year</th>\n",
       "      <th>CO2_Emission_Grams/Km</th>\n",
       "      <th>City_Km/Liter</th>\n",
       "      <th>Highway_Km/Liter</th>\n",
       "    </tr>\n",
       "  </thead>\n",
       "  <tbody>\n",
       "    <tr>\n",
       "      <th>0</th>\n",
       "      <td>AMG</td>\n",
       "      <td>DJ Po Vehicle 2WD</td>\n",
       "      <td>1984</td>\n",
       "      <td>2.5</td>\n",
       "      <td>4.0</td>\n",
       "      <td>Automatic</td>\n",
       "      <td>2-Wheel Drive</td>\n",
       "      <td>Special Purpose Vehicle 2WD</td>\n",
       "      <td>Regular</td>\n",
       "      <td>19.388824</td>\n",
       "      <td>1950</td>\n",
       "      <td>324.831736</td>\n",
       "      <td>7.652571</td>\n",
       "      <td>7.227428</td>\n",
       "    </tr>\n",
       "    <tr>\n",
       "      <th>1</th>\n",
       "      <td>AMG</td>\n",
       "      <td>FJ8c Post Office</td>\n",
       "      <td>1984</td>\n",
       "      <td>4.2</td>\n",
       "      <td>6.0</td>\n",
       "      <td>Automatic</td>\n",
       "      <td>2-Wheel Drive</td>\n",
       "      <td>Special Purpose Vehicle 2WD</td>\n",
       "      <td>Regular</td>\n",
       "      <td>25.354615</td>\n",
       "      <td>2550</td>\n",
       "      <td>424.779962</td>\n",
       "      <td>5.526857</td>\n",
       "      <td>5.526857</td>\n",
       "    </tr>\n",
       "    <tr>\n",
       "      <th>2</th>\n",
       "      <td>AMG</td>\n",
       "      <td>Post Office DJ5 2WD</td>\n",
       "      <td>1985</td>\n",
       "      <td>2.5</td>\n",
       "      <td>4.0</td>\n",
       "      <td>Automatic</td>\n",
       "      <td>Rear-Wheel Drive</td>\n",
       "      <td>Special Purpose Vehicle 2WD</td>\n",
       "      <td>Regular</td>\n",
       "      <td>20.600625</td>\n",
       "      <td>2100</td>\n",
       "      <td>345.133719</td>\n",
       "      <td>6.802286</td>\n",
       "      <td>7.227428</td>\n",
       "    </tr>\n",
       "    <tr>\n",
       "      <th>3</th>\n",
       "      <td>AMG</td>\n",
       "      <td>Post Office DJ8 2WD</td>\n",
       "      <td>1985</td>\n",
       "      <td>4.2</td>\n",
       "      <td>6.0</td>\n",
       "      <td>Automatic</td>\n",
       "      <td>Rear-Wheel Drive</td>\n",
       "      <td>Special Purpose Vehicle 2WD</td>\n",
       "      <td>Regular</td>\n",
       "      <td>25.354615</td>\n",
       "      <td>2550</td>\n",
       "      <td>424.779962</td>\n",
       "      <td>5.526857</td>\n",
       "      <td>5.526857</td>\n",
       "    </tr>\n",
       "    <tr>\n",
       "      <th>4</th>\n",
       "      <td>ASC</td>\n",
       "      <td>GNX</td>\n",
       "      <td>1987</td>\n",
       "      <td>3.8</td>\n",
       "      <td>6.0</td>\n",
       "      <td>Automatic</td>\n",
       "      <td>Rear-Wheel Drive</td>\n",
       "      <td>Midsize Cars</td>\n",
       "      <td>Premium</td>\n",
       "      <td>20.600625</td>\n",
       "      <td>2550</td>\n",
       "      <td>345.133719</td>\n",
       "      <td>5.952000</td>\n",
       "      <td>8.928000</td>\n",
       "    </tr>\n",
       "    <tr>\n",
       "      <th>...</th>\n",
       "      <td>...</td>\n",
       "      <td>...</td>\n",
       "      <td>...</td>\n",
       "      <td>...</td>\n",
       "      <td>...</td>\n",
       "      <td>...</td>\n",
       "      <td>...</td>\n",
       "      <td>...</td>\n",
       "      <td>...</td>\n",
       "      <td>...</td>\n",
       "      <td>...</td>\n",
       "      <td>...</td>\n",
       "      <td>...</td>\n",
       "      <td>...</td>\n",
       "    </tr>\n",
       "    <tr>\n",
       "      <th>35947</th>\n",
       "      <td>smart</td>\n",
       "      <td>fortwo coupe</td>\n",
       "      <td>2013</td>\n",
       "      <td>1.0</td>\n",
       "      <td>3.0</td>\n",
       "      <td>Automatic</td>\n",
       "      <td>Rear-Wheel Drive</td>\n",
       "      <td>Two Seaters</td>\n",
       "      <td>Premium</td>\n",
       "      <td>9.155833</td>\n",
       "      <td>1100</td>\n",
       "      <td>151.614948</td>\n",
       "      <td>14.454857</td>\n",
       "      <td>16.155428</td>\n",
       "    </tr>\n",
       "    <tr>\n",
       "      <th>35948</th>\n",
       "      <td>smart</td>\n",
       "      <td>fortwo coupe</td>\n",
       "      <td>2014</td>\n",
       "      <td>1.0</td>\n",
       "      <td>3.0</td>\n",
       "      <td>Automatic</td>\n",
       "      <td>Rear-Wheel Drive</td>\n",
       "      <td>Two Seaters</td>\n",
       "      <td>Premium</td>\n",
       "      <td>9.155833</td>\n",
       "      <td>1100</td>\n",
       "      <td>150.993575</td>\n",
       "      <td>14.454857</td>\n",
       "      <td>16.155428</td>\n",
       "    </tr>\n",
       "    <tr>\n",
       "      <th>35949</th>\n",
       "      <td>smart</td>\n",
       "      <td>fortwo coupe</td>\n",
       "      <td>2015</td>\n",
       "      <td>1.0</td>\n",
       "      <td>3.0</td>\n",
       "      <td>Automatic</td>\n",
       "      <td>Rear-Wheel Drive</td>\n",
       "      <td>Two Seaters</td>\n",
       "      <td>Premium</td>\n",
       "      <td>9.155833</td>\n",
       "      <td>1100</td>\n",
       "      <td>151.614948</td>\n",
       "      <td>14.454857</td>\n",
       "      <td>16.155428</td>\n",
       "    </tr>\n",
       "    <tr>\n",
       "      <th>35950</th>\n",
       "      <td>smart</td>\n",
       "      <td>fortwo coupe</td>\n",
       "      <td>2016</td>\n",
       "      <td>0.9</td>\n",
       "      <td>3.0</td>\n",
       "      <td>Automatic</td>\n",
       "      <td>Rear-Wheel Drive</td>\n",
       "      <td>Two Seaters</td>\n",
       "      <td>Premium</td>\n",
       "      <td>9.155833</td>\n",
       "      <td>1100</td>\n",
       "      <td>152.857693</td>\n",
       "      <td>14.454857</td>\n",
       "      <td>16.580571</td>\n",
       "    </tr>\n",
       "    <tr>\n",
       "      <th>35951</th>\n",
       "      <td>smart</td>\n",
       "      <td>fortwo coupe</td>\n",
       "      <td>2016</td>\n",
       "      <td>0.9</td>\n",
       "      <td>3.0</td>\n",
       "      <td>Manual</td>\n",
       "      <td>Rear-Wheel Drive</td>\n",
       "      <td>Two Seaters</td>\n",
       "      <td>Premium</td>\n",
       "      <td>9.417429</td>\n",
       "      <td>1150</td>\n",
       "      <td>158.450048</td>\n",
       "      <td>13.604571</td>\n",
       "      <td>16.580571</td>\n",
       "    </tr>\n",
       "  </tbody>\n",
       "</table>\n",
       "<p>35952 rows × 14 columns</p>\n",
       "</div>"
      ],
      "text/plain": [
       "       Brand                Model  Year  Engine_Displacement  Cyl      Trans  \\\n",
       "0        AMG    DJ Po Vehicle 2WD  1984                  2.5  4.0  Automatic   \n",
       "1        AMG     FJ8c Post Office  1984                  4.2  6.0  Automatic   \n",
       "2        AMG  Post Office DJ5 2WD  1985                  2.5  4.0  Automatic   \n",
       "3        AMG  Post Office DJ8 2WD  1985                  4.2  6.0  Automatic   \n",
       "4        ASC                  GNX  1987                  3.8  6.0  Automatic   \n",
       "...      ...                  ...   ...                  ...  ...        ...   \n",
       "35947  smart         fortwo coupe  2013                  1.0  3.0  Automatic   \n",
       "35948  smart         fortwo coupe  2014                  1.0  3.0  Automatic   \n",
       "35949  smart         fortwo coupe  2015                  1.0  3.0  Automatic   \n",
       "35950  smart         fortwo coupe  2016                  0.9  3.0  Automatic   \n",
       "35951  smart         fortwo coupe  2016                  0.9  3.0     Manual   \n",
       "\n",
       "             Drivetrain                Vehicle_Class Fuel_Type  \\\n",
       "0         2-Wheel Drive  Special Purpose Vehicle 2WD   Regular   \n",
       "1         2-Wheel Drive  Special Purpose Vehicle 2WD   Regular   \n",
       "2      Rear-Wheel Drive  Special Purpose Vehicle 2WD   Regular   \n",
       "3      Rear-Wheel Drive  Special Purpose Vehicle 2WD   Regular   \n",
       "4      Rear-Wheel Drive                 Midsize Cars   Premium   \n",
       "...                 ...                          ...       ...   \n",
       "35947  Rear-Wheel Drive                  Two Seaters   Premium   \n",
       "35948  Rear-Wheel Drive                  Two Seaters   Premium   \n",
       "35949  Rear-Wheel Drive                  Two Seaters   Premium   \n",
       "35950  Rear-Wheel Drive                  Two Seaters   Premium   \n",
       "35951  Rear-Wheel Drive                  Two Seaters   Premium   \n",
       "\n",
       "       Fuel_Barrels/Year  Fuel_Cost/Year  CO2_Emission_Grams/Km  \\\n",
       "0              19.388824            1950             324.831736   \n",
       "1              25.354615            2550             424.779962   \n",
       "2              20.600625            2100             345.133719   \n",
       "3              25.354615            2550             424.779962   \n",
       "4              20.600625            2550             345.133719   \n",
       "...                  ...             ...                    ...   \n",
       "35947           9.155833            1100             151.614948   \n",
       "35948           9.155833            1100             150.993575   \n",
       "35949           9.155833            1100             151.614948   \n",
       "35950           9.155833            1100             152.857693   \n",
       "35951           9.417429            1150             158.450048   \n",
       "\n",
       "       City_Km/Liter  Highway_Km/Liter  \n",
       "0           7.652571          7.227428  \n",
       "1           5.526857          5.526857  \n",
       "2           6.802286          7.227428  \n",
       "3           5.526857          5.526857  \n",
       "4           5.952000          8.928000  \n",
       "...              ...               ...  \n",
       "35947      14.454857         16.155428  \n",
       "35948      14.454857         16.155428  \n",
       "35949      14.454857         16.155428  \n",
       "35950      14.454857         16.580571  \n",
       "35951      13.604571         16.580571  \n",
       "\n",
       "[35952 rows x 14 columns]"
      ]
     },
     "execution_count": 179,
     "metadata": {},
     "output_type": "execute_result"
    }
   ],
   "source": [
    "cars"
   ]
  },
  {
   "cell_type": "code",
   "execution_count": 170,
   "metadata": {
    "id": "cbk5R7HL6Fg8"
   },
   "outputs": [
    {
     "data": {
      "text/html": [
       "<div>\n",
       "<style scoped>\n",
       "    .dataframe tbody tr th:only-of-type {\n",
       "        vertical-align: middle;\n",
       "    }\n",
       "\n",
       "    .dataframe tbody tr th {\n",
       "        vertical-align: top;\n",
       "    }\n",
       "\n",
       "    .dataframe thead th {\n",
       "        text-align: right;\n",
       "    }\n",
       "</style>\n",
       "<table border=\"1\" class=\"dataframe\">\n",
       "  <thead>\n",
       "    <tr style=\"text-align: right;\">\n",
       "      <th></th>\n",
       "      <th>Brand</th>\n",
       "      <th>Model</th>\n",
       "      <th>Year</th>\n",
       "      <th>Engine_Displacement</th>\n",
       "      <th>Cyl</th>\n",
       "      <th>Trans</th>\n",
       "      <th>Drivetrain</th>\n",
       "      <th>Vehicle_Class</th>\n",
       "      <th>Fuel_Type</th>\n",
       "      <th>Fuel_Barrels/Year</th>\n",
       "      <th>Fuel_Cost/Year</th>\n",
       "      <th>CO2_Emission_Grams/Km</th>\n",
       "      <th>City_Km/Liter</th>\n",
       "      <th>Highway_Km/Liter</th>\n",
       "    </tr>\n",
       "  </thead>\n",
       "  <tbody>\n",
       "    <tr>\n",
       "      <th>0</th>\n",
       "      <td>AMG</td>\n",
       "      <td>DJ Po Vehicle 2WD</td>\n",
       "      <td>1984</td>\n",
       "      <td>2.5</td>\n",
       "      <td>4.0</td>\n",
       "      <td>Automatic</td>\n",
       "      <td>2-Wheel Drive</td>\n",
       "      <td>Special Purpose Vehicle 2WD</td>\n",
       "      <td>Regular</td>\n",
       "      <td>19.388824</td>\n",
       "      <td>1950</td>\n",
       "      <td>324.831736</td>\n",
       "      <td>7.652571</td>\n",
       "      <td>7.227428</td>\n",
       "    </tr>\n",
       "    <tr>\n",
       "      <th>1</th>\n",
       "      <td>AMG</td>\n",
       "      <td>FJ8c Post Office</td>\n",
       "      <td>1984</td>\n",
       "      <td>4.2</td>\n",
       "      <td>6.0</td>\n",
       "      <td>Automatic</td>\n",
       "      <td>2-Wheel Drive</td>\n",
       "      <td>Special Purpose Vehicle 2WD</td>\n",
       "      <td>Regular</td>\n",
       "      <td>25.354615</td>\n",
       "      <td>2550</td>\n",
       "      <td>424.779962</td>\n",
       "      <td>5.526857</td>\n",
       "      <td>5.526857</td>\n",
       "    </tr>\n",
       "    <tr>\n",
       "      <th>2</th>\n",
       "      <td>AMG</td>\n",
       "      <td>Post Office DJ5 2WD</td>\n",
       "      <td>1985</td>\n",
       "      <td>2.5</td>\n",
       "      <td>4.0</td>\n",
       "      <td>Automatic</td>\n",
       "      <td>Rear-Wheel Drive</td>\n",
       "      <td>Special Purpose Vehicle 2WD</td>\n",
       "      <td>Regular</td>\n",
       "      <td>20.600625</td>\n",
       "      <td>2100</td>\n",
       "      <td>345.133719</td>\n",
       "      <td>6.802286</td>\n",
       "      <td>7.227428</td>\n",
       "    </tr>\n",
       "    <tr>\n",
       "      <th>3</th>\n",
       "      <td>AMG</td>\n",
       "      <td>Post Office DJ8 2WD</td>\n",
       "      <td>1985</td>\n",
       "      <td>4.2</td>\n",
       "      <td>6.0</td>\n",
       "      <td>Automatic</td>\n",
       "      <td>Rear-Wheel Drive</td>\n",
       "      <td>Special Purpose Vehicle 2WD</td>\n",
       "      <td>Regular</td>\n",
       "      <td>25.354615</td>\n",
       "      <td>2550</td>\n",
       "      <td>424.779962</td>\n",
       "      <td>5.526857</td>\n",
       "      <td>5.526857</td>\n",
       "    </tr>\n",
       "    <tr>\n",
       "      <th>4</th>\n",
       "      <td>ASC</td>\n",
       "      <td>GNX</td>\n",
       "      <td>1987</td>\n",
       "      <td>3.8</td>\n",
       "      <td>6.0</td>\n",
       "      <td>Automatic</td>\n",
       "      <td>Rear-Wheel Drive</td>\n",
       "      <td>Midsize Cars</td>\n",
       "      <td>Premium</td>\n",
       "      <td>20.600625</td>\n",
       "      <td>2550</td>\n",
       "      <td>345.133719</td>\n",
       "      <td>5.952000</td>\n",
       "      <td>8.928000</td>\n",
       "    </tr>\n",
       "    <tr>\n",
       "      <th>...</th>\n",
       "      <td>...</td>\n",
       "      <td>...</td>\n",
       "      <td>...</td>\n",
       "      <td>...</td>\n",
       "      <td>...</td>\n",
       "      <td>...</td>\n",
       "      <td>...</td>\n",
       "      <td>...</td>\n",
       "      <td>...</td>\n",
       "      <td>...</td>\n",
       "      <td>...</td>\n",
       "      <td>...</td>\n",
       "      <td>...</td>\n",
       "      <td>...</td>\n",
       "    </tr>\n",
       "    <tr>\n",
       "      <th>35933</th>\n",
       "      <td>smart</td>\n",
       "      <td>fortwo cabriolet</td>\n",
       "      <td>2011</td>\n",
       "      <td>1.0</td>\n",
       "      <td>3.0</td>\n",
       "      <td>Automatic</td>\n",
       "      <td>Rear-Wheel Drive</td>\n",
       "      <td>Two Seaters</td>\n",
       "      <td>Premium</td>\n",
       "      <td>9.155833</td>\n",
       "      <td>1100</td>\n",
       "      <td>153.392764</td>\n",
       "      <td>14.029714</td>\n",
       "      <td>17.430857</td>\n",
       "    </tr>\n",
       "    <tr>\n",
       "      <th>35932</th>\n",
       "      <td>smart</td>\n",
       "      <td>fortwo cabriolet</td>\n",
       "      <td>2010</td>\n",
       "      <td>1.0</td>\n",
       "      <td>3.0</td>\n",
       "      <td>Automatic</td>\n",
       "      <td>Rear-Wheel Drive</td>\n",
       "      <td>Two Seaters</td>\n",
       "      <td>Premium</td>\n",
       "      <td>9.155833</td>\n",
       "      <td>1100</td>\n",
       "      <td>153.392764</td>\n",
       "      <td>14.029714</td>\n",
       "      <td>17.430857</td>\n",
       "    </tr>\n",
       "    <tr>\n",
       "      <th>35950</th>\n",
       "      <td>smart</td>\n",
       "      <td>fortwo coupe</td>\n",
       "      <td>2016</td>\n",
       "      <td>0.9</td>\n",
       "      <td>3.0</td>\n",
       "      <td>Automatic</td>\n",
       "      <td>Rear-Wheel Drive</td>\n",
       "      <td>Two Seaters</td>\n",
       "      <td>Premium</td>\n",
       "      <td>9.155833</td>\n",
       "      <td>1100</td>\n",
       "      <td>152.857693</td>\n",
       "      <td>14.454857</td>\n",
       "      <td>16.580571</td>\n",
       "    </tr>\n",
       "    <tr>\n",
       "      <th>35940</th>\n",
       "      <td>smart</td>\n",
       "      <td>fortwo convertible</td>\n",
       "      <td>2008</td>\n",
       "      <td>1.0</td>\n",
       "      <td>3.0</td>\n",
       "      <td>Automatic</td>\n",
       "      <td>Rear-Wheel Drive</td>\n",
       "      <td>Two Seaters</td>\n",
       "      <td>Premium</td>\n",
       "      <td>9.155833</td>\n",
       "      <td>1100</td>\n",
       "      <td>153.392764</td>\n",
       "      <td>14.029714</td>\n",
       "      <td>17.430857</td>\n",
       "    </tr>\n",
       "    <tr>\n",
       "      <th>35951</th>\n",
       "      <td>smart</td>\n",
       "      <td>fortwo coupe</td>\n",
       "      <td>2016</td>\n",
       "      <td>0.9</td>\n",
       "      <td>3.0</td>\n",
       "      <td>Manual</td>\n",
       "      <td>Rear-Wheel Drive</td>\n",
       "      <td>Two Seaters</td>\n",
       "      <td>Premium</td>\n",
       "      <td>9.417429</td>\n",
       "      <td>1150</td>\n",
       "      <td>158.450048</td>\n",
       "      <td>13.604571</td>\n",
       "      <td>16.580571</td>\n",
       "    </tr>\n",
       "  </tbody>\n",
       "</table>\n",
       "<p>35952 rows × 14 columns</p>\n",
       "</div>"
      ],
      "text/plain": [
       "       Brand                Model  Year  Engine_Displacement  Cyl      Trans  \\\n",
       "0        AMG    DJ Po Vehicle 2WD  1984                  2.5  4.0  Automatic   \n",
       "1        AMG     FJ8c Post Office  1984                  4.2  6.0  Automatic   \n",
       "2        AMG  Post Office DJ5 2WD  1985                  2.5  4.0  Automatic   \n",
       "3        AMG  Post Office DJ8 2WD  1985                  4.2  6.0  Automatic   \n",
       "4        ASC                  GNX  1987                  3.8  6.0  Automatic   \n",
       "...      ...                  ...   ...                  ...  ...        ...   \n",
       "35933  smart     fortwo cabriolet  2011                  1.0  3.0  Automatic   \n",
       "35932  smart     fortwo cabriolet  2010                  1.0  3.0  Automatic   \n",
       "35950  smart         fortwo coupe  2016                  0.9  3.0  Automatic   \n",
       "35940  smart   fortwo convertible  2008                  1.0  3.0  Automatic   \n",
       "35951  smart         fortwo coupe  2016                  0.9  3.0     Manual   \n",
       "\n",
       "             Drivetrain                Vehicle_Class Fuel_Type  \\\n",
       "0         2-Wheel Drive  Special Purpose Vehicle 2WD   Regular   \n",
       "1         2-Wheel Drive  Special Purpose Vehicle 2WD   Regular   \n",
       "2      Rear-Wheel Drive  Special Purpose Vehicle 2WD   Regular   \n",
       "3      Rear-Wheel Drive  Special Purpose Vehicle 2WD   Regular   \n",
       "4      Rear-Wheel Drive                 Midsize Cars   Premium   \n",
       "...                 ...                          ...       ...   \n",
       "35933  Rear-Wheel Drive                  Two Seaters   Premium   \n",
       "35932  Rear-Wheel Drive                  Two Seaters   Premium   \n",
       "35950  Rear-Wheel Drive                  Two Seaters   Premium   \n",
       "35940  Rear-Wheel Drive                  Two Seaters   Premium   \n",
       "35951  Rear-Wheel Drive                  Two Seaters   Premium   \n",
       "\n",
       "       Fuel_Barrels/Year  Fuel_Cost/Year  CO2_Emission_Grams/Km  \\\n",
       "0              19.388824            1950             324.831736   \n",
       "1              25.354615            2550             424.779962   \n",
       "2              20.600625            2100             345.133719   \n",
       "3              25.354615            2550             424.779962   \n",
       "4              20.600625            2550             345.133719   \n",
       "...                  ...             ...                    ...   \n",
       "35933           9.155833            1100             153.392764   \n",
       "35932           9.155833            1100             153.392764   \n",
       "35950           9.155833            1100             152.857693   \n",
       "35940           9.155833            1100             153.392764   \n",
       "35951           9.417429            1150             158.450048   \n",
       "\n",
       "       City_Km/Liter  Highway_Km/Liter  \n",
       "0           7.652571          7.227428  \n",
       "1           5.526857          5.526857  \n",
       "2           6.802286          7.227428  \n",
       "3           5.526857          5.526857  \n",
       "4           5.952000          8.928000  \n",
       "...              ...               ...  \n",
       "35933      14.029714         17.430857  \n",
       "35932      14.029714         17.430857  \n",
       "35950      14.454857         16.580571  \n",
       "35940      14.029714         17.430857  \n",
       "35951      13.604571         16.580571  \n",
       "\n",
       "[35952 rows x 14 columns]"
      ]
     },
     "execution_count": 170,
     "metadata": {},
     "output_type": "execute_result"
    }
   ],
   "source": [
    "cars.sort_values(by='Brand') "
   ]
  },
  {
   "cell_type": "markdown",
   "metadata": {
    "id": "rcSnpI3I6Fg8"
   },
   "source": [
    "What brand has the worse CO2 Emissions on average?\n",
    "\n",
    "Hint: use the function `sort_values()`"
   ]
  },
  {
   "cell_type": "raw",
   "metadata": {
    "colab": {
     "base_uri": "https://localhost:8080/",
     "height": 686
    },
    "executionInfo": {
     "elapsed": 270,
     "status": "ok",
     "timestamp": 1623145362738,
     "user": {
      "displayName": "Ignacio Soteras",
      "photoUrl": "",
      "userId": "02050793736257155229"
     },
     "user_tz": -120
    },
    "id": "SV2s8Lm66Fg8",
    "outputId": "ca1f005a-f090-4cec-952f-8e20d3193b46"
   },
   "source": [
    "#cars.sort_values(\"CO2_Emission_Grams/Km\", ascending=False)\n",
    "grouped = cars.groupby(['Brand', 'CO2_Emission_Grams/Km']).mean()\n",
    "grouped\n",
    "grouped = cars.groupby(['Brand', 'CO2_Emission_Grams/Km']).mean()\n"
   ]
  },
  {
   "cell_type": "code",
   "execution_count": 219,
   "metadata": {},
   "outputs": [
    {
     "data": {
      "text/plain": [
       "Brand\n",
       "AMG                            379.881345\n",
       "ASC                            345.133719\n",
       "Acura                          262.583000\n",
       "Alfa Romeo                     288.287195\n",
       "American Motors Corporation    314.264744\n",
       "                                  ...    \n",
       "Volkswagen                     244.038998\n",
       "Volvo                          270.796572\n",
       "Wallace Environmental          408.857065\n",
       "Yugo                           221.251107\n",
       "smart                          153.498052\n",
       "Name: CO2_Emission_Grams/Km, Length: 124, dtype: float64"
      ]
     },
     "execution_count": 219,
     "metadata": {},
     "output_type": "execute_result"
    }
   ],
   "source": [
    "grouped = cars.groupby('Brand')['CO2_Emission_Grams/Km'].mean()\n",
    "\n",
    "\n",
    "cars.groupby('Brand')['CO2_Emission_Grams/Km'].mean()"
   ]
  },
  {
   "cell_type": "code",
   "execution_count": 221,
   "metadata": {},
   "outputs": [
    {
     "data": {
      "text/plain": [
       "Year                     124\n",
       "Engine_Displacement      124\n",
       "Cyl                      124\n",
       "Fuel_Barrels/Year        124\n",
       "Fuel_Cost/Year           124\n",
       "CO2_Emission_Grams/Km    124\n",
       "City_Km/Liter            124\n",
       "Highway_Km/Liter         124\n",
       "dtype: int64"
      ]
     },
     "execution_count": 221,
     "metadata": {},
     "output_type": "execute_result"
    }
   ],
   "source": [
    "cars.groupby('Brand').mean().count()\n",
    "#.sort_values(\"Model\", ascending=False)\\\n",
    "#.reset_index()\\\n",
    "#.iloc[0,0]\n",
    "\n",
    "#grouped.describe()"
   ]
  },
  {
   "cell_type": "code",
   "execution_count": 216,
   "metadata": {},
   "outputs": [
    {
     "data": {
      "text/plain": [
       "{0: [0, 2, 5], 1: [1, 3], 2: [4]}"
      ]
     },
     "execution_count": 216,
     "metadata": {},
     "output_type": "execute_result"
    }
   ],
   "source": [
    "import pandas as pd\n",
    "import numpy as np\n",
    "\n",
    "rng = np.random.RandomState(0)\n",
    "df = pd.DataFrame({'key': ['A', 'B', 'C', 'A', 'B', 'C'],\n",
    "                   'data1': range(6),\n",
    "                   'data2': rng.randint(0, 10, 6)},\n",
    "                   columns = ['key', 'data1', 'data2'])\n",
    "L = [0, 1, 0, 1, 2, 0]\n",
    "\n",
    "df.groupby(L).sum()\n",
    "df.groupby(L).groups\n",
    "{0: [0, 2, 5], 1: [1, 3], 2: [4]}\n",
    "#The groups parameter gives you the elements of each group"
   ]
  },
  {
   "cell_type": "markdown",
   "metadata": {},
   "source": [
    "<b>show the average CO2_Emission_Grams/Km  by Brand"
   ]
  },
  {
   "cell_type": "code",
   "execution_count": 172,
   "metadata": {
    "colab": {
     "base_uri": "https://localhost:8080/",
     "height": 437
    },
    "executionInfo": {
     "elapsed": 229,
     "status": "ok",
     "timestamp": 1623145437447,
     "user": {
      "displayName": "Ignacio Soteras",
      "photoUrl": "",
      "userId": "02050793736257155229"
     },
     "user_tz": -120
    },
    "id": "QQ40-Xvcq9Rr",
    "outputId": "517ea5be-6749-4170-c56b-ec950df6f45f"
   },
   "outputs": [],
   "source": [
    "mean(cars.sort_values(\"CO2_Emission_Grams/Km\", ascending=False))"
   ]
  },
  {
   "cell_type": "markdown",
   "metadata": {},
   "source": [
    "<b>show the average CO2_Emission_Grams/Km  by Brand ... sorted"
   ]
  },
  {
   "cell_type": "code",
   "execution_count": 173,
   "metadata": {
    "colab": {
     "base_uri": "https://localhost:8080/",
     "height": 437
    },
    "executionInfo": {
     "elapsed": 271,
     "status": "ok",
     "timestamp": 1623145508527,
     "user": {
      "displayName": "Ignacio Soteras",
      "photoUrl": "",
      "userId": "02050793736257155229"
     },
     "user_tz": -120
    },
    "id": "HmkHNbaIAlxR",
    "outputId": "90c966a3-f1cb-4cea-94da-7e3c4654d996"
   },
   "outputs": [],
   "source": [
    "### your code us here"
   ]
  },
  {
   "cell_type": "code",
   "execution_count": 174,
   "metadata": {
    "colab": {
     "base_uri": "https://localhost:8080/",
     "height": 437
    },
    "executionInfo": {
     "elapsed": 321,
     "status": "ok",
     "timestamp": 1623145599827,
     "user": {
      "displayName": "Ignacio Soteras",
      "photoUrl": "",
      "userId": "02050793736257155229"
     },
     "user_tz": -120
    },
    "id": "fmao2QoRA0GQ",
    "outputId": "30b8fa62-e040-4cc6-8335-001819e73798"
   },
   "outputs": [],
   "source": [
    "### your code us here"
   ]
  },
  {
   "cell_type": "markdown",
   "metadata": {
    "id": "PQDBkdTO6Fg8"
   },
   "source": [
    "Use `pd.cut` or `pd.qcut` to create 4 groups (bins) of cars, by Year. We want to explore how cars have evolved decade by decade."
   ]
  },
  {
   "cell_type": "code",
   "execution_count": 175,
   "metadata": {
    "colab": {
     "base_uri": "https://localhost:8080/"
    },
    "executionInfo": {
     "elapsed": 234,
     "status": "ok",
     "timestamp": 1623145662903,
     "user": {
      "displayName": "Ignacio Soteras",
      "photoUrl": "",
      "userId": "02050793736257155229"
     },
     "user_tz": -120
    },
    "id": "C70ymFKC6Fg8",
    "outputId": "b951d08b-a80a-4e63-ea09-8940423f97ee"
   },
   "outputs": [
    {
     "data": {
      "text/plain": [
       "count    35952.00000\n",
       "mean      2000.71640\n",
       "std         10.08529\n",
       "min       1984.00000\n",
       "25%       1991.00000\n",
       "50%       2001.00000\n",
       "75%       2010.00000\n",
       "max       2017.00000\n",
       "Name: Year, dtype: float64"
      ]
     },
     "execution_count": 175,
     "metadata": {},
     "output_type": "execute_result"
    }
   ],
   "source": [
    "cars['Year'].describe()"
   ]
  },
  {
   "cell_type": "code",
   "execution_count": 176,
   "metadata": {
    "executionInfo": {
     "elapsed": 229,
     "status": "ok",
     "timestamp": 1623145807038,
     "user": {
      "displayName": "Ignacio Soteras",
      "photoUrl": "",
      "userId": "02050793736257155229"
     },
     "user_tz": -120
    },
    "id": "rhEot_x1rsMg"
   },
   "outputs": [],
   "source": [
    "## your code here"
   ]
  },
  {
   "cell_type": "code",
   "execution_count": 177,
   "metadata": {
    "colab": {
     "base_uri": "https://localhost:8080/",
     "height": 407
    },
    "executionInfo": {
     "elapsed": 242,
     "status": "ok",
     "timestamp": 1623145821125,
     "user": {
      "displayName": "Ignacio Soteras",
      "photoUrl": "",
      "userId": "02050793736257155229"
     },
     "user_tz": -120
    },
    "id": "kGNdDmU1sXFg",
    "outputId": "94c9b6e6-dd36-4dc6-d0eb-d85fab57a61b"
   },
   "outputs": [
    {
     "ename": "KeyError",
     "evalue": "\"['Decade'] not in index\"",
     "output_type": "error",
     "traceback": [
      "\u001b[0;31m---------------------------------------------------------------------------\u001b[0m",
      "\u001b[0;31mKeyError\u001b[0m                                  Traceback (most recent call last)",
      "\u001b[0;32m<ipython-input-177-01c7b5ac2c2d>\u001b[0m in \u001b[0;36m<module>\u001b[0;34m\u001b[0m\n\u001b[0;32m----> 1\u001b[0;31m \u001b[0mcars\u001b[0m\u001b[0;34m[\u001b[0m\u001b[0;34m[\u001b[0m\u001b[0;34m'Year'\u001b[0m\u001b[0;34m,\u001b[0m\u001b[0;34m'Decade'\u001b[0m\u001b[0;34m]\u001b[0m\u001b[0;34m]\u001b[0m\u001b[0;34m\u001b[0m\u001b[0;34m\u001b[0m\u001b[0m\n\u001b[0m",
      "\u001b[0;32m~/opt/anaconda3/lib/python3.8/site-packages/pandas/core/frame.py\u001b[0m in \u001b[0;36m__getitem__\u001b[0;34m(self, key)\u001b[0m\n\u001b[1;32m   3028\u001b[0m             \u001b[0;32mif\u001b[0m \u001b[0mis_iterator\u001b[0m\u001b[0;34m(\u001b[0m\u001b[0mkey\u001b[0m\u001b[0;34m)\u001b[0m\u001b[0;34m:\u001b[0m\u001b[0;34m\u001b[0m\u001b[0;34m\u001b[0m\u001b[0m\n\u001b[1;32m   3029\u001b[0m                 \u001b[0mkey\u001b[0m \u001b[0;34m=\u001b[0m \u001b[0mlist\u001b[0m\u001b[0;34m(\u001b[0m\u001b[0mkey\u001b[0m\u001b[0;34m)\u001b[0m\u001b[0;34m\u001b[0m\u001b[0;34m\u001b[0m\u001b[0m\n\u001b[0;32m-> 3030\u001b[0;31m             \u001b[0mindexer\u001b[0m \u001b[0;34m=\u001b[0m \u001b[0mself\u001b[0m\u001b[0;34m.\u001b[0m\u001b[0mloc\u001b[0m\u001b[0;34m.\u001b[0m\u001b[0m_get_listlike_indexer\u001b[0m\u001b[0;34m(\u001b[0m\u001b[0mkey\u001b[0m\u001b[0;34m,\u001b[0m \u001b[0maxis\u001b[0m\u001b[0;34m=\u001b[0m\u001b[0;36m1\u001b[0m\u001b[0;34m,\u001b[0m \u001b[0mraise_missing\u001b[0m\u001b[0;34m=\u001b[0m\u001b[0;32mTrue\u001b[0m\u001b[0;34m)\u001b[0m\u001b[0;34m[\u001b[0m\u001b[0;36m1\u001b[0m\u001b[0;34m]\u001b[0m\u001b[0;34m\u001b[0m\u001b[0;34m\u001b[0m\u001b[0m\n\u001b[0m\u001b[1;32m   3031\u001b[0m \u001b[0;34m\u001b[0m\u001b[0m\n\u001b[1;32m   3032\u001b[0m         \u001b[0;31m# take() does not accept boolean indexers\u001b[0m\u001b[0;34m\u001b[0m\u001b[0;34m\u001b[0m\u001b[0;34m\u001b[0m\u001b[0m\n",
      "\u001b[0;32m~/opt/anaconda3/lib/python3.8/site-packages/pandas/core/indexing.py\u001b[0m in \u001b[0;36m_get_listlike_indexer\u001b[0;34m(self, key, axis, raise_missing)\u001b[0m\n\u001b[1;32m   1264\u001b[0m             \u001b[0mkeyarr\u001b[0m\u001b[0;34m,\u001b[0m \u001b[0mindexer\u001b[0m\u001b[0;34m,\u001b[0m \u001b[0mnew_indexer\u001b[0m \u001b[0;34m=\u001b[0m \u001b[0max\u001b[0m\u001b[0;34m.\u001b[0m\u001b[0m_reindex_non_unique\u001b[0m\u001b[0;34m(\u001b[0m\u001b[0mkeyarr\u001b[0m\u001b[0;34m)\u001b[0m\u001b[0;34m\u001b[0m\u001b[0;34m\u001b[0m\u001b[0m\n\u001b[1;32m   1265\u001b[0m \u001b[0;34m\u001b[0m\u001b[0m\n\u001b[0;32m-> 1266\u001b[0;31m         \u001b[0mself\u001b[0m\u001b[0;34m.\u001b[0m\u001b[0m_validate_read_indexer\u001b[0m\u001b[0;34m(\u001b[0m\u001b[0mkeyarr\u001b[0m\u001b[0;34m,\u001b[0m \u001b[0mindexer\u001b[0m\u001b[0;34m,\u001b[0m \u001b[0maxis\u001b[0m\u001b[0;34m,\u001b[0m \u001b[0mraise_missing\u001b[0m\u001b[0;34m=\u001b[0m\u001b[0mraise_missing\u001b[0m\u001b[0;34m)\u001b[0m\u001b[0;34m\u001b[0m\u001b[0;34m\u001b[0m\u001b[0m\n\u001b[0m\u001b[1;32m   1267\u001b[0m         \u001b[0;32mreturn\u001b[0m \u001b[0mkeyarr\u001b[0m\u001b[0;34m,\u001b[0m \u001b[0mindexer\u001b[0m\u001b[0;34m\u001b[0m\u001b[0;34m\u001b[0m\u001b[0m\n\u001b[1;32m   1268\u001b[0m \u001b[0;34m\u001b[0m\u001b[0m\n",
      "\u001b[0;32m~/opt/anaconda3/lib/python3.8/site-packages/pandas/core/indexing.py\u001b[0m in \u001b[0;36m_validate_read_indexer\u001b[0;34m(self, key, indexer, axis, raise_missing)\u001b[0m\n\u001b[1;32m   1314\u001b[0m             \u001b[0;32mif\u001b[0m \u001b[0mraise_missing\u001b[0m\u001b[0;34m:\u001b[0m\u001b[0;34m\u001b[0m\u001b[0;34m\u001b[0m\u001b[0m\n\u001b[1;32m   1315\u001b[0m                 \u001b[0mnot_found\u001b[0m \u001b[0;34m=\u001b[0m \u001b[0mlist\u001b[0m\u001b[0;34m(\u001b[0m\u001b[0mset\u001b[0m\u001b[0;34m(\u001b[0m\u001b[0mkey\u001b[0m\u001b[0;34m)\u001b[0m \u001b[0;34m-\u001b[0m \u001b[0mset\u001b[0m\u001b[0;34m(\u001b[0m\u001b[0max\u001b[0m\u001b[0;34m)\u001b[0m\u001b[0;34m)\u001b[0m\u001b[0;34m\u001b[0m\u001b[0;34m\u001b[0m\u001b[0m\n\u001b[0;32m-> 1316\u001b[0;31m                 \u001b[0;32mraise\u001b[0m \u001b[0mKeyError\u001b[0m\u001b[0;34m(\u001b[0m\u001b[0;34mf\"{not_found} not in index\"\u001b[0m\u001b[0;34m)\u001b[0m\u001b[0;34m\u001b[0m\u001b[0;34m\u001b[0m\u001b[0m\n\u001b[0m\u001b[1;32m   1317\u001b[0m \u001b[0;34m\u001b[0m\u001b[0m\n\u001b[1;32m   1318\u001b[0m             \u001b[0mnot_found\u001b[0m \u001b[0;34m=\u001b[0m \u001b[0mkey\u001b[0m\u001b[0;34m[\u001b[0m\u001b[0mmissing_mask\u001b[0m\u001b[0;34m]\u001b[0m\u001b[0;34m\u001b[0m\u001b[0;34m\u001b[0m\u001b[0m\n",
      "\u001b[0;31mKeyError\u001b[0m: \"['Decade'] not in index\""
     ]
    }
   ],
   "source": [
    "cars[['Year','Decade']]"
   ]
  },
  {
   "cell_type": "code",
   "execution_count": null,
   "metadata": {
    "colab": {
     "base_uri": "https://localhost:8080/",
     "height": 407
    },
    "executionInfo": {
     "elapsed": 253,
     "status": "ok",
     "timestamp": 1623145844452,
     "user": {
      "displayName": "Ignacio Soteras",
      "photoUrl": "",
      "userId": "02050793736257155229"
     },
     "user_tz": -120
    },
    "id": "6WzC8Xcqs-7I",
    "outputId": "86ef34d4-cc66-4715-862c-7588f82908cf"
   },
   "outputs": [],
   "source": [
    "cars.loc[:,['Year','Decade']]"
   ]
  },
  {
   "cell_type": "code",
   "execution_count": null,
   "metadata": {
    "colab": {
     "base_uri": "https://localhost:8080/",
     "height": 407
    },
    "executionInfo": {
     "elapsed": 642,
     "status": "ok",
     "timestamp": 1623145991230,
     "user": {
      "displayName": "Ignacio Soteras",
      "photoUrl": "",
      "userId": "02050793736257155229"
     },
     "user_tz": -120
    },
    "id": "Uhn8yQdK6Fg8",
    "outputId": "c27dc06f-2f6b-4437-b325-99baef81eee8"
   },
   "outputs": [],
   "source": [
    "cars[\"Year_range\"]= pd.cut(cars[\"Year\"], \n",
    "                             bins = [1980,1989,1999,2009,2019],\n",
    "                             labels=[\"80s\", \"90s\", \"00s\", \"10s\"])\n",
    "\n",
    "cars.loc[:,['Year','Decade','Year_range']]"
   ]
  },
  {
   "cell_type": "markdown",
   "metadata": {
    "id": "fmGwGGya6Fg8"
   },
   "source": [
    "### Did cars consume more gas in the eighties?"
   ]
  },
  {
   "cell_type": "code",
   "execution_count": null,
   "metadata": {
    "colab": {
     "base_uri": "https://localhost:8080/"
    },
    "executionInfo": {
     "elapsed": 659,
     "status": "ok",
     "timestamp": 1623146129860,
     "user": {
      "displayName": "Ignacio Soteras",
      "photoUrl": "",
      "userId": "02050793736257155229"
     },
     "user_tz": -120
    },
    "id": "IMoAysFXxJAp",
    "outputId": "921e7a8c-3280-4001-c373-bacc883f74bf"
   },
   "outputs": [],
   "source": [
    "cars.columns"
   ]
  },
  {
   "cell_type": "markdown",
   "metadata": {
    "colab": {
     "base_uri": "https://localhost:8080/",
     "height": 198
    },
    "executionInfo": {
     "elapsed": 256,
     "status": "ok",
     "timestamp": 1623146140731,
     "user": {
      "displayName": "Ignacio Soteras",
      "photoUrl": "",
      "userId": "02050793736257155229"
     },
     "user_tz": -120
    },
    "id": "_sOkpVbvwulT",
    "outputId": "0d79ee50-8241-4cc6-8e2d-b3bec5770bb6"
   },
   "source": [
    "show the average City_Km/Liter by year_range"
   ]
  },
  {
   "cell_type": "code",
   "execution_count": null,
   "metadata": {},
   "outputs": [],
   "source": [
    "### your code is here"
   ]
  },
  {
   "cell_type": "markdown",
   "metadata": {
    "id": "ZZ96MZrR6Fg9"
   },
   "source": [
    "Which brands are more environment friendly?"
   ]
  },
  {
   "cell_type": "code",
   "execution_count": null,
   "metadata": {
    "colab": {
     "base_uri": "https://localhost:8080/",
     "height": 437
    },
    "executionInfo": {
     "elapsed": 10,
     "status": "ok",
     "timestamp": 1623146393112,
     "user": {
      "displayName": "Ignacio Soteras",
      "photoUrl": "",
      "userId": "02050793736257155229"
     },
     "user_tz": -120
    },
    "id": "7qSlKjqF6Fg9",
    "outputId": "85d66c6b-ac7a-4585-b8af-aad43c4718a7"
   },
   "outputs": [],
   "source": [
    "### your code is here"
   ]
  },
  {
   "cell_type": "markdown",
   "metadata": {
    "id": "dGHYkM8q6Fg9"
   },
   "source": [
    "Does the drivetrain affect fuel consumption?"
   ]
  },
  {
   "cell_type": "code",
   "execution_count": null,
   "metadata": {
    "colab": {
     "base_uri": "https://localhost:8080/",
     "height": 318
    },
    "executionInfo": {
     "elapsed": 245,
     "status": "ok",
     "timestamp": 1623146457215,
     "user": {
      "displayName": "Ignacio Soteras",
      "photoUrl": "",
      "userId": "02050793736257155229"
     },
     "user_tz": -120
    },
    "id": "HVpCAkXk6Fg9",
    "outputId": "da0f2f40-4193-40cf-ad1d-60988b00446c"
   },
   "outputs": [],
   "source": [
    "# We can also sort by 2 columns \n",
    "# (the second column only matters in case there's a tie sorting by the first one)\n",
    "cars.groupby(\"Drivetrain\")[[\"Highway_Km/Liter\",\"City_Km/Liter\"]].mean().sort_values(\"City_Km/Liter\",ascending=False)"
   ]
  },
  {
   "cell_type": "markdown",
   "metadata": {
    "id": "2avLmljX6Fg9"
   },
   "source": [
    "Do cars with automatic transmission consume more fuel than cars with manual transmission?"
   ]
  },
  {
   "cell_type": "code",
   "execution_count": null,
   "metadata": {
    "colab": {
     "base_uri": "https://localhost:8080/"
    },
    "executionInfo": {
     "elapsed": 237,
     "status": "ok",
     "timestamp": 1623146520144,
     "user": {
      "displayName": "Ignacio Soteras",
      "photoUrl": "",
      "userId": "02050793736257155229"
     },
     "user_tz": -120
    },
    "id": "g8LlSybd1hIM",
    "outputId": "8f713eca-0c0b-4987-f306-9f5ceecb5d2d"
   },
   "outputs": [],
   "source": [
    "cars.columns"
   ]
  },
  {
   "cell_type": "code",
   "execution_count": null,
   "metadata": {
    "colab": {
     "base_uri": "https://localhost:8080/",
     "height": 138
    },
    "executionInfo": {
     "elapsed": 246,
     "status": "ok",
     "timestamp": 1623146549152,
     "user": {
      "displayName": "Ignacio Soteras",
      "photoUrl": "",
      "userId": "02050793736257155229"
     },
     "user_tz": -120
    },
    "id": "VZv72ngN6Fg9",
    "outputId": "88712749-0f24-4cc6-a007-0b05f79e885d"
   },
   "outputs": [],
   "source": [
    "cars.groupby(\"Trans\")[[\"City_Km/Liter\"]].mean().sort_values(\"City_Km/Liter\",ascending=False)"
   ]
  },
  {
   "cell_type": "markdown",
   "metadata": {
    "id": "tJsmxD3K6Fg9"
   },
   "source": [
    "Use `groupby` and `aggregate` with different aggregation measures for different columns:"
   ]
  },
  {
   "cell_type": "markdown",
   "metadata": {},
   "source": [
    "aggregate with average City_Km/Liter and the count of the Trans"
   ]
  },
  {
   "cell_type": "code",
   "execution_count": null,
   "metadata": {
    "colab": {
     "base_uri": "https://localhost:8080/",
     "height": 138
    },
    "executionInfo": {
     "elapsed": 268,
     "status": "ok",
     "timestamp": 1623146659201,
     "user": {
      "displayName": "Ignacio Soteras",
      "photoUrl": "",
      "userId": "02050793736257155229"
     },
     "user_tz": -120
    },
    "id": "1rVFzsdG6Fg9",
    "outputId": "ad726e32-d3d9-4d69-b9e8-c7ae43a40c96"
   },
   "outputs": [],
   "source": [
    "## your code is here"
   ]
  },
  {
   "cell_type": "markdown",
   "metadata": {},
   "source": [
    "aggregate with average City_Km/Liter and the minimum of the Trans"
   ]
  },
  {
   "cell_type": "code",
   "execution_count": null,
   "metadata": {
    "colab": {
     "base_uri": "https://localhost:8080/",
     "height": 138
    },
    "executionInfo": {
     "elapsed": 228,
     "status": "ok",
     "timestamp": 1623147799942,
     "user": {
      "displayName": "Ignacio Soteras",
      "photoUrl": "",
      "userId": "02050793736257155229"
     },
     "user_tz": -120
    },
    "id": "qsrSdXAdJWAO",
    "outputId": "89b30e64-6827-4ac0-f386-87bedec3fd4b"
   },
   "outputs": [],
   "source": [
    "### your code is here"
   ]
  },
  {
   "cell_type": "code",
   "execution_count": null,
   "metadata": {},
   "outputs": [],
   "source": []
  }
 ],
 "metadata": {
  "colab": {
   "name": "Pandas_Grouping_Joining_Cars_Structure.ipynb",
   "provenance": []
  },
  "kernelspec": {
   "display_name": "Python 3",
   "language": "python",
   "name": "python3"
  },
  "language_info": {
   "codemirror_mode": {
    "name": "ipython",
    "version": 3
   },
   "file_extension": ".py",
   "mimetype": "text/x-python",
   "name": "python",
   "nbconvert_exporter": "python",
   "pygments_lexer": "ipython3",
   "version": "3.8.8"
  },
  "toc": {
   "base_numbering": 1,
   "nav_menu": {},
   "number_sections": true,
   "sideBar": true,
   "skip_h1_title": false,
   "title_cell": "Table of Contents",
   "title_sidebar": "Contents",
   "toc_cell": false,
   "toc_position": {},
   "toc_section_display": true,
   "toc_window_display": false
  },
  "varInspector": {
   "cols": {
    "lenName": 16,
    "lenType": 16,
    "lenVar": 40
   },
   "kernels_config": {
    "python": {
     "delete_cmd_postfix": "",
     "delete_cmd_prefix": "del ",
     "library": "var_list.py",
     "varRefreshCmd": "print(var_dic_list())"
    },
    "r": {
     "delete_cmd_postfix": ") ",
     "delete_cmd_prefix": "rm(",
     "library": "var_list.r",
     "varRefreshCmd": "cat(var_dic_list()) "
    }
   },
   "types_to_exclude": [
    "module",
    "function",
    "builtin_function_or_method",
    "instance",
    "_Feature"
   ],
   "window_display": false
  }
 },
 "nbformat": 4,
 "nbformat_minor": 1
}
