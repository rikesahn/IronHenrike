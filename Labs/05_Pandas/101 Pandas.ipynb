{
 "cells": [
  {
   "cell_type": "markdown",
   "metadata": {},
   "source": [
    "1. How to import pandas and check the version?\n"
   ]
  },
  {
   "cell_type": "code",
   "execution_count": 3,
   "metadata": {},
   "outputs": [
    {
     "data": {
      "text/plain": [
       "'1.3.3'"
      ]
     },
     "execution_count": 3,
     "metadata": {},
     "output_type": "execute_result"
    }
   ],
   "source": [
    "import pandas as pd\n",
    "pd.__version__"
   ]
  },
  {
   "cell_type": "markdown",
   "metadata": {},
   "source": [
    "2. How to create a series from a list, numpy array and dict?\n",
    "Create a pandas series from each of the items below: a list, numpy and a dictionary"
   ]
  },
  {
   "cell_type": "code",
   "execution_count": 154,
   "metadata": {},
   "outputs": [
    {
     "name": "stdout",
     "output_type": "stream",
     "text": [
      "['a', 'b', 'c', 'e', 'd', 'f', 'g', 'h', 'i', 'j', 'k', 'l', 'm', 'n', 'o', 'p', 'q', 'r', 's', 't', 'u', 'v', 'w', 'x', 'y', 'z']\n",
      "[ 0  1  2  3  4  5  6  7  8  9 10 11 12 13 14 15 16 17 18 19 20 21 22 23\n",
      " 24 25]\n",
      "{'a': 0, 'b': 1, 'c': 2, 'e': 3, 'd': 4, 'f': 5, 'g': 6, 'h': 7, 'i': 8, 'j': 9, 'k': 10, 'l': 11, 'm': 12, 'n': 13, 'o': 14, 'p': 15, 'q': 16, 'r': 17, 's': 18, 't': 19, 'u': 20, 'v': 21, 'w': 22, 'x': 23, 'y': 24, 'z': 25}\n"
     ]
    }
   ],
   "source": [
    "import numpy as np\n",
    "mylist = list('abcedfghijklmnopqrstuvwxyz')\n",
    "myarr = np.arange(26)\n",
    "mydict = dict(zip(mylist, myarr))\n",
    "print(mylist)\n",
    "print(myarr)\n",
    "print(mydict)\n"
   ]
  },
  {
   "cell_type": "code",
   "execution_count": 155,
   "metadata": {},
   "outputs": [
    {
     "name": "stdout",
     "output_type": "stream",
     "text": [
      "0    a\n",
      "1    b\n",
      "2    c\n",
      "3    e\n",
      "4    d\n",
      "dtype: object\n",
      "0    0\n",
      "1    1\n",
      "2    2\n",
      "3    3\n",
      "4    4\n",
      "dtype: int64\n",
      "a    0\n",
      "b    1\n",
      "c    2\n",
      "e    3\n",
      "d    4\n",
      "dtype: int64\n"
     ]
    }
   ],
   "source": [
    "slist = pd.Series(mylist)\n",
    "sarr = pd.Series(myarr)\n",
    "sdict = pd.Series(mydict)\n",
    "#%who #print(%who)\n",
    "#%whos\n",
    "#%who\n",
    "print(slist.head())\n",
    "print(sarr.head())\n",
    "print(sdict.head()) "
   ]
  },
  {
   "cell_type": "markdown",
   "metadata": {},
   "source": [
    "3. How to convert the index of a series into a column of a dataframe?\n",
    "Difficulty Level: L1\n",
    "\n",
    "Convert the series ser into a dataframe with its index as another column on the dataframe."
   ]
  },
  {
   "cell_type": "code",
   "execution_count": 157,
   "metadata": {},
   "outputs": [
    {
     "name": "stdout",
     "output_type": "stream",
     "text": [
      "a    0\n",
      "b    1\n",
      "c    2\n",
      "e    3\n",
      "d    4\n",
      "dtype: int64\n"
     ]
    }
   ],
   "source": [
    "mylist = list('abcedfghijklmnopqrstuvwxyz')\n",
    "myarr = np.arange(26)\n",
    "mydict = dict(zip(mylist, myarr))\n",
    "ser = pd.Series(mydict)\n",
    "print(ser.head())\n"
   ]
  },
  {
   "cell_type": "code",
   "execution_count": 167,
   "metadata": {},
   "outputs": [
    {
     "name": "stdout",
     "output_type": "stream",
     "text": [
      "  index  0\n",
      "0     a  0\n",
      "1     b  1\n",
      "2     c  2\n",
      "3     e  3\n",
      "4     d  4\n",
      "   test\n",
      "a     0\n",
      "b     1\n",
      "c     2\n",
      "e     3\n",
      "d     4\n",
      "  index  test\n",
      "0     a     0\n",
      "1     b     1\n",
      "2     c     2\n",
      "3     e     3\n",
      "4     d     4\n",
      "<class 'pandas.core.series.Series'>\n",
      "0      0\n",
      "1      1\n",
      "2      2\n",
      "3      3\n",
      "4      4\n",
      "5      5\n",
      "6      6\n",
      "7      7\n",
      "8      8\n",
      "9      9\n",
      "10    10\n",
      "11    11\n",
      "12    12\n",
      "13    13\n",
      "14    14\n",
      "15    15\n",
      "16    16\n",
      "17    17\n",
      "18    18\n",
      "19    19\n",
      "20    20\n",
      "21    21\n",
      "22    22\n",
      "23    23\n",
      "24    24\n",
      "25    25\n",
      "dtype: int64\n"
     ]
    }
   ],
   "source": [
    "df = ser.to_frame().reset_index()\n",
    "df0 = ser.reset_index(drop=True)\n",
    "df1 = ser.to_frame('test')\n",
    "df2 = df1.reset_index()\n",
    "print(df.head())\n",
    "print(df1.head())\n",
    "print(df2.head())\n",
    "print(type(df0))\n",
    "print (df0)\n"
   ]
  },
  {
   "cell_type": "markdown",
   "metadata": {},
   "source": [
    "4. How to combine many series to form a dataframe?\n",
    "Difficulty Level: L1\n",
    "\n",
    "Combine ser1 and ser2 to form a dataframe."
   ]
  },
  {
   "cell_type": "code",
   "execution_count": 180,
   "metadata": {},
   "outputs": [
    {
     "name": "stdout",
     "output_type": "stream",
     "text": [
      "a    0\n",
      "b    1\n",
      "c    2\n",
      "e    3\n",
      "d    4\n",
      "dtype: int64\n"
     ]
    }
   ],
   "source": [
    "\n",
    "import numpy as np\n",
    "mylist = list('abcedfghijklmnopqrstuvwxyz')\n",
    "myarr = np.arange(26)\n",
    "ser1 = pd.Series(list('abcedfghijklmnopqrstuvwxyz'))\n",
    "ser2 = pd.Series(np.arange(26))\n",
    "#ser3 = pd.Series(dict(zip(mylist, myarr)))\n",
    "\n",
    "print(ser3.head())\n"
   ]
  },
  {
   "cell_type": "code",
   "execution_count": 190,
   "metadata": {},
   "outputs": [
    {
     "name": "stdout",
     "output_type": "stream",
     "text": [
      "    0   1\n",
      "0   a   0\n",
      "1   b   1\n",
      "2   c   2\n",
      "3   e   3\n",
      "4   d   4\n",
      "5   f   5\n",
      "6   g   6\n",
      "7   h   7\n",
      "8   i   8\n",
      "9   j   9\n",
      "10  k  10\n",
      "11  l  11\n",
      "12  m  12\n",
      "13  n  13\n",
      "14  o  14\n",
      "15  p  15\n",
      "16  q  16\n",
      "17  r  17\n",
      "18  s  18\n",
      "19  t  19\n",
      "20  u  20\n",
      "21  v  21\n",
      "22  w  22\n",
      "23  x  23\n",
      "24  y  24\n",
      "25  z  25\n"
     ]
    }
   ],
   "source": [
    "df = pd.concat([ser1,ser2], axis=1)\n",
    "print(df)"
   ]
  },
  {
   "cell_type": "markdown",
   "metadata": {},
   "source": [
    "\n",
    "5. How to assign name to the series’ index?\n",
    "Difficulty Level: L1\n",
    "\n",
    "Give a name to the series ser calling it ‘alphabets’.\n",
    "\n"
   ]
  },
  {
   "cell_type": "code",
   "execution_count": 194,
   "metadata": {},
   "outputs": [
    {
     "name": "stdout",
     "output_type": "stream",
     "text": [
      "None\n"
     ]
    }
   ],
   "source": [
    "ser = pd.Series(list('abcedfghijklmnopqrstuvwxyz'))\n",
    "print(ser.name)"
   ]
  },
  {
   "cell_type": "code",
   "execution_count": 200,
   "metadata": {},
   "outputs": [
    {
     "name": "stdout",
     "output_type": "stream",
     "text": [
      "alphabets\n",
      "   alphabets\n",
      "0          a\n",
      "1          b\n",
      "2          c\n",
      "3          e\n",
      "4          d\n",
      "5          f\n",
      "6          g\n",
      "7          h\n",
      "8          i\n",
      "9          j\n",
      "10         k\n",
      "11         l\n",
      "12         m\n",
      "13         n\n",
      "14         o\n",
      "15         p\n",
      "16         q\n",
      "17         r\n",
      "18         s\n",
      "19         t\n",
      "20         u\n",
      "21         v\n",
      "22         w\n",
      "23         x\n",
      "24         y\n",
      "25         z\n"
     ]
    }
   ],
   "source": [
    "ser = ser.rename(\"alphabets\")\n",
    "print(ser.name)\n",
    "print(ser.to_frame())"
   ]
  },
  {
   "cell_type": "markdown",
   "metadata": {},
   "source": [
    "6. How to get the items of series A not present in series B?\n",
    "Difficulty Level: L2\n",
    "\n",
    "From ser1 remove items present in ser2.\n"
   ]
  },
  {
   "cell_type": "code",
   "execution_count": 201,
   "metadata": {},
   "outputs": [
    {
     "name": "stdout",
     "output_type": "stream",
     "text": [
      "0    1\n",
      "1    2\n",
      "2    3\n",
      "3    4\n",
      "4    5\n",
      "dtype: int64 \n",
      " 0    4\n",
      "1    5\n",
      "2    6\n",
      "3    7\n",
      "4    8\n",
      "dtype: int64\n"
     ]
    }
   ],
   "source": [
    "#From ser1 remove items present in ser2.\n",
    "\n",
    "ser1 = pd.Series([1, 2, 3, 4, 5])\n",
    "ser2 = pd.Series([4, 5, 6, 7, 8])\n",
    "print (ser1, \"\\n\", ser2)"
   ]
  },
  {
   "cell_type": "code",
   "execution_count": 140,
   "metadata": {},
   "outputs": [
    {
     "name": "stdout",
     "output_type": "stream",
     "text": [
      "0    1\n",
      "1    2\n",
      "2    3\n",
      "dtype: int64 \n",
      " 3    4\n",
      "4    5\n",
      "dtype: int64 \n",
      " 0    1\n",
      "1    2\n",
      "2    3\n",
      "3    4\n",
      "4    5\n",
      "dtype: int64 \n",
      " 0     True\n",
      "1     True\n",
      "2    False\n",
      "3    False\n",
      "4    False\n",
      "dtype: bool\n"
     ]
    }
   ],
   "source": [
    "\n",
    "\n",
    "#df = ser1.drop([])\n",
    "df = ser1[~ser1.isin(ser2)]\n",
    "af = ser1[ser1.isin(ser2)]\n",
    "cf = ser1[ser2.isin(ser2)]\n",
    "ef = ser2.isin(ser1)\n",
    "\n",
    "\n",
    "print (df, \"\\n\", af, \"\\n\", cf, \"\\n\", ef)"
   ]
  },
  {
   "cell_type": "markdown",
   "metadata": {},
   "source": [
    "\n",
    "7. How to get the items not common to both series A and series B?\n",
    "Difficulty Level: L2\n",
    "\n",
    "Get all items of ser1 and ser2 not common to both.\n"
   ]
  },
  {
   "cell_type": "code",
   "execution_count": null,
   "metadata": {},
   "outputs": [],
   "source": [
    "\n",
    "ser1 = pd.Series([1, 2, 3, 4, 5])\n",
    "ser2 = pd.Series([4, 5, 6, 7, 8])\n"
   ]
  },
  {
   "cell_type": "markdown",
   "metadata": {},
   "source": [
    "8. How to get the minimum, 25th percentile, median, 75th, and max of a numeric series?\n",
    "Difficuty Level: L2\n",
    "Compute the minimum, 25th percentile, median, 75th, and maximum of ser.\n"
   ]
  },
  {
   "cell_type": "code",
   "execution_count": 150,
   "metadata": {},
   "outputs": [
    {
     "name": "stdout",
     "output_type": "stream",
     "text": [
      "0     10.203084\n",
      "1      9.460674\n",
      "2     11.842658\n",
      "3     14.996299\n",
      "4     14.833276\n",
      "5     12.044868\n",
      "6      9.408067\n",
      "7     13.923975\n",
      "8     10.053492\n",
      "9      9.028147\n",
      "10     6.841130\n",
      "11     5.362647\n",
      "12     8.797463\n",
      "13     1.924154\n",
      "14    12.431714\n",
      "15    11.945299\n",
      "16    13.386268\n",
      "17    10.309310\n",
      "18     8.409167\n",
      "19    11.698878\n",
      "20    11.485078\n",
      "21    12.909975\n",
      "22    17.735103\n",
      "23     0.824573\n",
      "24     6.992689\n",
      "dtype: float64\n",
      "count    25.000000\n",
      "mean     10.273919\n",
      "std       3.870914\n",
      "min       0.824573\n",
      "25%       8.797463\n",
      "50%      10.309310\n",
      "75%      12.431714\n",
      "max      17.735103\n",
      "dtype: float64\n",
      "0.8245725730681102\n",
      "8.797463109566403\n",
      "10.309310229207352\n",
      "17.735102779274104\n"
     ]
    }
   ],
   "source": [
    "\n",
    "\n",
    "ser = pd.Series(np.random.normal(10, 5, 25))\n",
    "print(ser)\n",
    "print(ser.describe())\n",
    "print(ser.min())\n",
    "print(ser.quantile(q=0.25))\n",
    "print(ser.median())\n",
    "print(ser.max())\n"
   ]
  },
  {
   "cell_type": "markdown",
   "metadata": {},
   "source": [
    "\n",
    "9. How to get frequency counts of unique items of a series?\n",
    "Difficulty Level: L1\n",
    "\n",
    "Calculte the frequency counts of each unique value ser."
   ]
  },
  {
   "cell_type": "code",
   "execution_count": 202,
   "metadata": {},
   "outputs": [],
   "source": [
    "\n",
    "\n",
    "ser = pd.Series(np.take(list('abcdefgh'), np.random.randint(8, size=30)))\n",
    "\n"
   ]
  },
  {
   "cell_type": "code",
   "execution_count": 205,
   "metadata": {},
   "outputs": [
    {
     "name": "stdout",
     "output_type": "stream",
     "text": [
      "c    8\n",
      "e    5\n",
      "d    4\n",
      "f    4\n",
      "b    3\n",
      "g    3\n",
      "a    2\n",
      "h    1\n",
      "dtype: int64\n",
      "0     e\n",
      "1     e\n",
      "2     b\n",
      "3     d\n",
      "4     b\n",
      "5     d\n",
      "6     a\n",
      "7     f\n",
      "8     b\n",
      "9     c\n",
      "10    a\n",
      "11    f\n",
      "12    g\n",
      "13    c\n",
      "14    e\n",
      "15    d\n",
      "16    c\n",
      "17    c\n",
      "18    h\n",
      "19    c\n",
      "20    c\n",
      "21    d\n",
      "22    c\n",
      "23    g\n",
      "24    e\n",
      "25    g\n",
      "26    f\n",
      "27    f\n",
      "28    c\n",
      "29    e\n",
      "dtype: object\n"
     ]
    }
   ],
   "source": [
    "print(ser.value_counts())\n",
    "print(ser)"
   ]
  },
  {
   "cell_type": "markdown",
   "metadata": {},
   "source": [
    "\n",
    "\n",
    "10. How to keep only top 2 most frequent values as it is and replace everything else as ‘Other’?\n",
    "Difficulty Level: L2\n",
    "From ser, keep the top 2 most frequent items as it is and replace everything else as ‘Other’."
   ]
  },
  {
   "cell_type": "code",
   "execution_count": 236,
   "metadata": {},
   "outputs": [],
   "source": [
    "np.random.RandomState(100)\n",
    "ser = pd.Series(np.random.randint(1, 5, [12]))"
   ]
  },
  {
   "cell_type": "code",
   "execution_count": 237,
   "metadata": {},
   "outputs": [
    {
     "name": "stdout",
     "output_type": "stream",
     "text": [
      "3    4\n",
      "4    4\n",
      "2    3\n",
      "1    1\n",
      "dtype: int64\n",
      "Int64Index([3, 4, 2, 1], dtype='int64')\n",
      "[3, 4, 2, 1]\n",
      "0     Other\n",
      "1         3\n",
      "2         3\n",
      "3         3\n",
      "4         4\n",
      "5     Other\n",
      "6         4\n",
      "7     Other\n",
      "8     Other\n",
      "9         4\n",
      "10        4\n",
      "11        3\n",
      "dtype: object\n",
      "0     2\n",
      "1     3\n",
      "2     3\n",
      "3     3\n",
      "4     4\n",
      "5     2\n",
      "6     4\n",
      "7     1\n",
      "8     2\n",
      "9     4\n",
      "10    4\n",
      "11    3\n",
      "dtype: int64\n"
     ]
    }
   ],
   "source": [
    "print(ser.value_counts())\n",
    "#print(ser.value_counts().reset_index())\n",
    "print((ser.value_counts().index ))\n",
    "print (list(ser.value_counts().index ))\n",
    "print(ser.replace(list(ser.value_counts().index)[2:], value='Other'))\n",
    "\n",
    "print(ser)"
   ]
  }
 ],
 "metadata": {
  "interpreter": {
   "hash": "5375ea30ccc9b57c36ae3d23020393a61a95a7ea0b2850a1adf62c73c9af99e5"
  },
  "kernelspec": {
   "display_name": "Python 3.9.6 64-bit ('DA_Env': conda)",
   "name": "python3"
  },
  "language_info": {
   "codemirror_mode": {
    "name": "ipython",
    "version": 3
   },
   "file_extension": ".py",
   "mimetype": "text/x-python",
   "name": "python",
   "nbconvert_exporter": "python",
   "pygments_lexer": "ipython3",
   "version": "3.9.6"
  }
 },
 "nbformat": 4,
 "nbformat_minor": 2
}
