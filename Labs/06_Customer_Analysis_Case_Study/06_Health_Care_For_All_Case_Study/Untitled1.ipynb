{
 "cells": [
  {
   "cell_type": "code",
   "execution_count": 6,
   "id": "fea5afe3",
   "metadata": {},
   "outputs": [],
   "source": [
    "import pandas as pd\n",
    "import numpy as np\n"
   ]
  },
  {
   "cell_type": "code",
   "execution_count": 14,
   "id": "3523842f",
   "metadata": {},
   "outputs": [],
   "source": [
    "file1=pd.read_csv(\"Data/file1.csv\")\n",
    "file2 = pd.read_csv('Data/file2.txt', sep = '\\t')\n",
    "file3= pd.read_excel(\"Data/file3.xlsx\")\n",
    "file4 = pd.read_excel(\"Data/file4.xlsx\")"
   ]
  },
  {
   "cell_type": "code",
   "execution_count": 11,
   "id": "f40d5cc9",
   "metadata": {},
   "outputs": [
    {
     "ename": "NameError",
     "evalue": "name 'file2' is not defined",
     "output_type": "error",
     "traceback": [
      "\u001b[0;31m---------------------------------------------------------------------------\u001b[0m",
      "\u001b[0;31mNameError\u001b[0m                                 Traceback (most recent call last)",
      "\u001b[0;32m/var/folders/f7/nrx6vpxx0kg9wqs44f_6zwkr0000gn/T/ipykernel_66638/1355237190.py\u001b[0m in \u001b[0;36m<module>\u001b[0;34m\u001b[0m\n\u001b[0;32m----> 1\u001b[0;31m \u001b[0mhk_df\u001b[0m\u001b[0;34m=\u001b[0m\u001b[0mpd\u001b[0m\u001b[0;34m.\u001b[0m\u001b[0mconcat\u001b[0m\u001b[0;34m(\u001b[0m\u001b[0;34m[\u001b[0m\u001b[0mfile1\u001b[0m\u001b[0;34m,\u001b[0m\u001b[0mfile2\u001b[0m\u001b[0;34m,\u001b[0m\u001b[0mfile3\u001b[0m\u001b[0;34m,\u001b[0m\u001b[0mfile4\u001b[0m\u001b[0;34m]\u001b[0m\u001b[0;34m,\u001b[0m \u001b[0maxis\u001b[0m\u001b[0;34m=\u001b[0m\u001b[0;36m0\u001b[0m\u001b[0;34m)\u001b[0m\u001b[0;34m\u001b[0m\u001b[0;34m\u001b[0m\u001b[0m\n\u001b[0m",
      "\u001b[0;31mNameError\u001b[0m: name 'file2' is not defined"
     ]
    }
   ],
   "source": [
    "hk_df=pd.concat([file1,file2,file3,file4], axis=0)"
   ]
  },
  {
   "cell_type": "code",
   "execution_count": null,
   "id": "91d941a0",
   "metadata": {},
   "outputs": [],
   "source": [
    "file2 = pd.read_csv('Data/file2.txt', sep = '\\t')"
   ]
  }
 ],
 "metadata": {
  "kernelspec": {
   "display_name": "Python 3.9.6 64-bit ('DA_Env': conda)",
   "language": "python",
   "name": "python396jvsc74a57bd05375ea30ccc9b57c36ae3d23020393a61a95a7ea0b2850a1adf62c73c9af99e5"
  },
  "language_info": {
   "codemirror_mode": {
    "name": "ipython",
    "version": 3
   },
   "file_extension": ".py",
   "mimetype": "text/x-python",
   "name": "python",
   "nbconvert_exporter": "python",
   "pygments_lexer": "ipython3",
   "version": "3.9.6"
  }
 },
 "nbformat": 4,
 "nbformat_minor": 5
}
